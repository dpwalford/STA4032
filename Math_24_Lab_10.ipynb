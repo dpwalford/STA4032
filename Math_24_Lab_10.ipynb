{
  "nbformat": 4,
  "nbformat_minor": 0,
  "metadata": {
    "colab": {
      "provenance": [],
      "include_colab_link": true
    },
    "kernelspec": {
      "name": "python3",
      "display_name": "Python 3"
    },
    "language_info": {
      "name": "python"
    },
    "accelerator": "GPU"
  },
  "cells": [
    {
      "cell_type": "markdown",
      "metadata": {
        "id": "view-in-github",
        "colab_type": "text"
      },
      "source": [
        "<a href=\"https://colab.research.google.com/github/dpwalford/STA4032/blob/main/Math_24_Lab_10.ipynb\" target=\"_parent\"><img src=\"https://colab.research.google.com/assets/colab-badge.svg\" alt=\"Open In Colab\"/></a>"
      ]
    },
    {
      "cell_type": "markdown",
      "source": [
        "## Setup"
      ],
      "metadata": {
        "id": "PQsLStfxfRrO"
      }
    },
    {
      "cell_type": "markdown",
      "source": [
        "### Imports"
      ],
      "metadata": {
        "id": "X2noEVRFmHTi"
      }
    },
    {
      "cell_type": "code",
      "source": [
        "# importing all necesary libraries\n",
        "import numpy as np\n",
        "import matplotlib.pyplot as plt\n",
        "import urllib.request\n",
        "from PIL import Image\n",
        "from imageio import *\n",
        "import torch\n",
        "from skimage.transform import resize\n",
        "from mpl_toolkits.axes_grid1.axes_rgb import make_rgb_axes, RGBAxes\n",
        "from torchvision.models import *\n",
        "from torchvision.datasets import MNIST,KMNIST,FashionMNIST\n",
        "from skimage.util import montage"
      ],
      "metadata": {
        "id": "aGu2hYn5VgKS"
      },
      "execution_count": 1,
      "outputs": []
    },
    {
      "cell_type": "code",
      "source": [
        "# installing wandb\n",
        "!pip install wandb\n",
        "import wandb as wb"
      ],
      "metadata": {
        "id": "O1xRGxv7AfoZ",
        "colab": {
          "base_uri": "https://localhost:8080/"
        },
        "outputId": "94be8b26-84b7-4d51-b583-f0194d9dd989"
      },
      "execution_count": 2,
      "outputs": [
        {
          "output_type": "stream",
          "name": "stdout",
          "text": [
            "Collecting wandb\n",
            "  Downloading wandb-0.16.4-py3-none-any.whl (2.2 MB)\n",
            "\u001b[2K     \u001b[90m━━━━━━━━━━━━━━━━━━━━━━━━━━━━━━━━━━━━━━━━\u001b[0m \u001b[32m2.2/2.2 MB\u001b[0m \u001b[31m7.9 MB/s\u001b[0m eta \u001b[36m0:00:00\u001b[0m\n",
            "\u001b[?25hRequirement already satisfied: Click!=8.0.0,>=7.1 in /usr/local/lib/python3.10/dist-packages (from wandb) (8.1.7)\n",
            "Collecting GitPython!=3.1.29,>=1.0.0 (from wandb)\n",
            "  Downloading GitPython-3.1.42-py3-none-any.whl (195 kB)\n",
            "\u001b[2K     \u001b[90m━━━━━━━━━━━━━━━━━━━━━━━━━━━━━━━━━━━━━━━━\u001b[0m \u001b[32m195.4/195.4 kB\u001b[0m \u001b[31m10.0 MB/s\u001b[0m eta \u001b[36m0:00:00\u001b[0m\n",
            "\u001b[?25hRequirement already satisfied: requests<3,>=2.0.0 in /usr/local/lib/python3.10/dist-packages (from wandb) (2.31.0)\n",
            "Requirement already satisfied: psutil>=5.0.0 in /usr/local/lib/python3.10/dist-packages (from wandb) (5.9.5)\n",
            "Collecting sentry-sdk>=1.0.0 (from wandb)\n",
            "  Downloading sentry_sdk-1.42.0-py2.py3-none-any.whl (263 kB)\n",
            "\u001b[2K     \u001b[90m━━━━━━━━━━━━━━━━━━━━━━━━━━━━━━━━━━━━━━━━\u001b[0m \u001b[32m263.5/263.5 kB\u001b[0m \u001b[31m7.1 MB/s\u001b[0m eta \u001b[36m0:00:00\u001b[0m\n",
            "\u001b[?25hCollecting docker-pycreds>=0.4.0 (from wandb)\n",
            "  Downloading docker_pycreds-0.4.0-py2.py3-none-any.whl (9.0 kB)\n",
            "Requirement already satisfied: PyYAML in /usr/local/lib/python3.10/dist-packages (from wandb) (6.0.1)\n",
            "Collecting setproctitle (from wandb)\n",
            "  Downloading setproctitle-1.3.3-cp310-cp310-manylinux_2_5_x86_64.manylinux1_x86_64.manylinux_2_17_x86_64.manylinux2014_x86_64.whl (30 kB)\n",
            "Requirement already satisfied: setuptools in /usr/local/lib/python3.10/dist-packages (from wandb) (67.7.2)\n",
            "Requirement already satisfied: appdirs>=1.4.3 in /usr/local/lib/python3.10/dist-packages (from wandb) (1.4.4)\n",
            "Requirement already satisfied: protobuf!=4.21.0,<5,>=3.19.0 in /usr/local/lib/python3.10/dist-packages (from wandb) (3.20.3)\n",
            "Requirement already satisfied: six>=1.4.0 in /usr/local/lib/python3.10/dist-packages (from docker-pycreds>=0.4.0->wandb) (1.16.0)\n",
            "Collecting gitdb<5,>=4.0.1 (from GitPython!=3.1.29,>=1.0.0->wandb)\n",
            "  Downloading gitdb-4.0.11-py3-none-any.whl (62 kB)\n",
            "\u001b[2K     \u001b[90m━━━━━━━━━━━━━━━━━━━━━━━━━━━━━━━━━━━━━━━━\u001b[0m \u001b[32m62.7/62.7 kB\u001b[0m \u001b[31m6.2 MB/s\u001b[0m eta \u001b[36m0:00:00\u001b[0m\n",
            "\u001b[?25hRequirement already satisfied: charset-normalizer<4,>=2 in /usr/local/lib/python3.10/dist-packages (from requests<3,>=2.0.0->wandb) (3.3.2)\n",
            "Requirement already satisfied: idna<4,>=2.5 in /usr/local/lib/python3.10/dist-packages (from requests<3,>=2.0.0->wandb) (3.6)\n",
            "Requirement already satisfied: urllib3<3,>=1.21.1 in /usr/local/lib/python3.10/dist-packages (from requests<3,>=2.0.0->wandb) (2.0.7)\n",
            "Requirement already satisfied: certifi>=2017.4.17 in /usr/local/lib/python3.10/dist-packages (from requests<3,>=2.0.0->wandb) (2024.2.2)\n",
            "Collecting smmap<6,>=3.0.1 (from gitdb<5,>=4.0.1->GitPython!=3.1.29,>=1.0.0->wandb)\n",
            "  Downloading smmap-5.0.1-py3-none-any.whl (24 kB)\n",
            "Installing collected packages: smmap, setproctitle, sentry-sdk, docker-pycreds, gitdb, GitPython, wandb\n",
            "Successfully installed GitPython-3.1.42 docker-pycreds-0.4.0 gitdb-4.0.11 sentry-sdk-1.42.0 setproctitle-1.3.3 smmap-5.0.1 wandb-0.16.4\n"
          ]
        }
      ]
    },
    {
      "cell_type": "code",
      "metadata": {
        "id": "6DQxxGNl1E1o"
      },
      "source": [
        "#creating functions\n",
        "def plot(x):\n",
        "    if type(x) == torch.Tensor :\n",
        "        x = x.cpu().detach().numpy()\n",
        "\n",
        "    fig, ax = plt.subplots()\n",
        "    im = ax.imshow(x, cmap = 'gray')\n",
        "    ax.axis('off')\n",
        "    fig.set_size_inches(5, 5)\n",
        "    plt.show()"
      ],
      "execution_count": 3,
      "outputs": []
    },
    {
      "cell_type": "code",
      "metadata": {
        "id": "wLcWTt76COK2"
      },
      "source": [
        "def montage_plot(x):\n",
        "    x = np.pad(x, pad_width=((0, 0), (1, 1), (1, 1)), mode='constant', constant_values=0)\n",
        "    plot(montage(x))"
      ],
      "execution_count": 4,
      "outputs": []
    },
    {
      "cell_type": "code",
      "source": [
        "b = 1000\n",
        "\n",
        "def get_batch(mode):\n",
        "    if mode == \"train\":\n",
        "        r = np.random.randint(X.shape[0]-b)\n",
        "        x = X[r:r+b,:]\n",
        "        y = Y[r:r+b]\n",
        "    elif mode == \"test\":\n",
        "        r = np.random.randint(X_test.shape[0]-b)\n",
        "        x = X_test[r:r+b,:]\n",
        "        y = Y_test[r:r+b]\n",
        "    return x,y"
      ],
      "metadata": {
        "id": "NZaGcRW6Igar"
      },
      "execution_count": 5,
      "outputs": []
    },
    {
      "cell_type": "markdown",
      "source": [
        "\n",
        "## MNIST\n",
        "    "
      ],
      "metadata": {
        "id": "gkw9kmV4NyRo"
      }
    },
    {
      "cell_type": "markdown",
      "source": [
        "### Load Data"
      ],
      "metadata": {
        "id": "Dc8TF76WPY1e"
      }
    },
    {
      "cell_type": "code",
      "metadata": {
        "id": "mm7ZMYrVEdMX",
        "colab": {
          "base_uri": "https://localhost:8080/"
        },
        "outputId": "b413d5f6-52ee-4f8a-df22-3477b47d15e9"
      },
      "source": [
        "# #MNIST\n",
        "train_set = MNIST('./data', train=True, download=True)\n",
        "test_set  = MNIST('./data', train=False, download=True)\n",
        "\n",
        "#KMNIST\n",
        "# train_set = KMNIST('./data', train=True, download=True)\n",
        "# test_set =  KMNIST('./data', train=False, download=True)\n",
        "\n",
        "# Fashion MNIST\n",
        "# train_set = FashionMNIST('./data', train=True, download=True)\n",
        "# test_set =  FashionMNIST('./data', train=False, download=True)"
      ],
      "execution_count": 6,
      "outputs": [
        {
          "output_type": "stream",
          "name": "stdout",
          "text": [
            "Downloading http://yann.lecun.com/exdb/mnist/train-images-idx3-ubyte.gz\n",
            "Downloading http://yann.lecun.com/exdb/mnist/train-images-idx3-ubyte.gz to ./data/MNIST/raw/train-images-idx3-ubyte.gz\n"
          ]
        },
        {
          "output_type": "stream",
          "name": "stderr",
          "text": [
            "100%|██████████| 9912422/9912422 [00:00<00:00, 116052877.46it/s]"
          ]
        },
        {
          "output_type": "stream",
          "name": "stdout",
          "text": [
            "Extracting ./data/MNIST/raw/train-images-idx3-ubyte.gz to ./data/MNIST/raw\n"
          ]
        },
        {
          "output_type": "stream",
          "name": "stderr",
          "text": [
            "\n"
          ]
        },
        {
          "output_type": "stream",
          "name": "stdout",
          "text": [
            "\n",
            "Downloading http://yann.lecun.com/exdb/mnist/train-labels-idx1-ubyte.gz\n",
            "Downloading http://yann.lecun.com/exdb/mnist/train-labels-idx1-ubyte.gz to ./data/MNIST/raw/train-labels-idx1-ubyte.gz\n"
          ]
        },
        {
          "output_type": "stream",
          "name": "stderr",
          "text": [
            "100%|██████████| 28881/28881 [00:00<00:00, 37215266.92it/s]\n"
          ]
        },
        {
          "output_type": "stream",
          "name": "stdout",
          "text": [
            "Extracting ./data/MNIST/raw/train-labels-idx1-ubyte.gz to ./data/MNIST/raw\n",
            "\n",
            "Downloading http://yann.lecun.com/exdb/mnist/t10k-images-idx3-ubyte.gz\n",
            "Downloading http://yann.lecun.com/exdb/mnist/t10k-images-idx3-ubyte.gz to ./data/MNIST/raw/t10k-images-idx3-ubyte.gz\n"
          ]
        },
        {
          "output_type": "stream",
          "name": "stderr",
          "text": [
            "100%|██████████| 1648877/1648877 [00:00<00:00, 54403148.11it/s]\n"
          ]
        },
        {
          "output_type": "stream",
          "name": "stdout",
          "text": [
            "Extracting ./data/MNIST/raw/t10k-images-idx3-ubyte.gz to ./data/MNIST/raw\n",
            "\n",
            "Downloading http://yann.lecun.com/exdb/mnist/t10k-labels-idx1-ubyte.gz\n",
            "Downloading http://yann.lecun.com/exdb/mnist/t10k-labels-idx1-ubyte.gz to ./data/MNIST/raw/t10k-labels-idx1-ubyte.gz\n"
          ]
        },
        {
          "output_type": "stream",
          "name": "stderr",
          "text": [
            "100%|██████████| 4542/4542 [00:00<00:00, 10021319.71it/s]\n"
          ]
        },
        {
          "output_type": "stream",
          "name": "stdout",
          "text": [
            "Extracting ./data/MNIST/raw/t10k-labels-idx1-ubyte.gz to ./data/MNIST/raw\n",
            "\n"
          ]
        }
      ]
    },
    {
      "cell_type": "code",
      "metadata": {
        "id": "Ols0HivADS6a"
      },
      "source": [
        "X = train_set.data.numpy()\n",
        "X_test = test_set.data.numpy()\n",
        "Y = train_set.targets.numpy()\n",
        "Y_test = test_set.targets.numpy()\n",
        "\n",
        "X = X[:,None,:,:]/255\n",
        "X_test = X_test[:,None,:,:]/255"
      ],
      "execution_count": 7,
      "outputs": []
    },
    {
      "cell_type": "code",
      "metadata": {
        "colab": {
          "base_uri": "https://localhost:8080/"
        },
        "id": "gfAjr0UBjgfs",
        "outputId": "5a965497-f96e-460c-a513-011181e70aaa"
      },
      "source": [
        "X.shape"
      ],
      "execution_count": 8,
      "outputs": [
        {
          "output_type": "execute_result",
          "data": {
            "text/plain": [
              "(60000, 1, 28, 28)"
            ]
          },
          "metadata": {},
          "execution_count": 8
        }
      ]
    },
    {
      "cell_type": "code",
      "source": [
        "Y[50000]"
      ],
      "metadata": {
        "colab": {
          "base_uri": "https://localhost:8080/"
        },
        "id": "PZ0TWqL3zjGP",
        "outputId": "aba0efb6-8551-4c75-b018-7f46b27eedc1"
      },
      "execution_count": 9,
      "outputs": [
        {
          "output_type": "execute_result",
          "data": {
            "text/plain": [
              "3"
            ]
          },
          "metadata": {},
          "execution_count": 9
        }
      ]
    },
    {
      "cell_type": "code",
      "metadata": {
        "colab": {
          "base_uri": "https://localhost:8080/",
          "height": 422
        },
        "id": "Ye809_jCAAxr",
        "outputId": "43e16413-c2c8-45e3-a487-05f1b1eb28c4"
      },
      "source": [
        "plot(X[50000,0,:,:])"
      ],
      "execution_count": 10,
      "outputs": [
        {
          "output_type": "display_data",
          "data": {
            "text/plain": [
              "<Figure size 500x500 with 1 Axes>"
            ],
            "image/png": "[encoded data removed]"
          },
          "metadata": {}
        }
      ]
    },
    {
      "cell_type": "code",
      "metadata": {
        "id": "evX7gb0YBzpe",
        "colab": {
          "base_uri": "https://localhost:8080/"
        },
        "outputId": "1594e371-eb5e-4061-83c7-2e2b6766bc79"
      },
      "source": [
        "Y[100]"
      ],
      "execution_count": 11,
      "outputs": [
        {
          "output_type": "execute_result",
          "data": {
            "text/plain": [
              "5"
            ]
          },
          "metadata": {},
          "execution_count": 11
        }
      ]
    },
    {
      "cell_type": "code",
      "source": [
        "X.shape"
      ],
      "metadata": {
        "colab": {
          "base_uri": "https://localhost:8080/"
        },
        "id": "ZvRm1DjXzI91",
        "outputId": "e696dabc-3d9c-41c2-ba74-ac5bd8410eba"
      },
      "execution_count": 12,
      "outputs": [
        {
          "output_type": "execute_result",
          "data": {
            "text/plain": [
              "(60000, 1, 28, 28)"
            ]
          },
          "metadata": {},
          "execution_count": 12
        }
      ]
    },
    {
      "cell_type": "code",
      "metadata": {
        "id": "b1ExpQONSaC_",
        "colab": {
          "base_uri": "https://localhost:8080/"
        },
        "outputId": "551d1a13-c703-40cd-8605-3f71dd3a570a"
      },
      "source": [
        "X[0:25,0,:,:].shape"
      ],
      "execution_count": 13,
      "outputs": [
        {
          "output_type": "execute_result",
          "data": {
            "text/plain": [
              "(25, 28, 28)"
            ]
          },
          "metadata": {},
          "execution_count": 13
        }
      ]
    },
    {
      "cell_type": "code",
      "metadata": {
        "id": "CHoMXjA6pWoa",
        "colab": {
          "base_uri": "https://localhost:8080/",
          "height": 422
        },
        "outputId": "54f5c18b-0b8c-47fb-f9ba-2be40cfc6e15"
      },
      "source": [
        "montage_plot(X[125:150,0,:,:])"
      ],
      "execution_count": 14,
      "outputs": [
        {
          "output_type": "display_data",
          "data": {
            "text/plain": [
              "<Figure size 500x500 with 1 Axes>"
            ],
            "image/png": "[encoded data removed]"
          },
          "metadata": {}
        }
      ]
    },
    {
      "cell_type": "code",
      "metadata": {
        "id": "fQPM_KQpD7Qd",
        "colab": {
          "base_uri": "https://localhost:8080/"
        },
        "outputId": "2d9e87db-8e00-4c6f-c770-03af8dc43c2f"
      },
      "source": [
        "X.shape[0]"
      ],
      "execution_count": 15,
      "outputs": [
        {
          "output_type": "execute_result",
          "data": {
            "text/plain": [
              "60000"
            ]
          },
          "metadata": {},
          "execution_count": 15
        }
      ]
    },
    {
      "cell_type": "code",
      "metadata": {
        "id": "QFqBciL5EPgM",
        "colab": {
          "base_uri": "https://localhost:8080/"
        },
        "outputId": "52745e31-f6d7-492d-daa9-6d83805c10fe"
      },
      "source": [
        "X_test.shape"
      ],
      "execution_count": 16,
      "outputs": [
        {
          "output_type": "execute_result",
          "data": {
            "text/plain": [
              "(10000, 1, 28, 28)"
            ]
          },
          "metadata": {},
          "execution_count": 16
        }
      ]
    },
    {
      "cell_type": "code",
      "metadata": {
        "id": "_eAq9FpWES_1",
        "colab": {
          "base_uri": "https://localhost:8080/"
        },
        "outputId": "cf4a9239-fadc-4636-bf4e-603997377f9d"
      },
      "source": [
        "X.shape[0]"
      ],
      "execution_count": 17,
      "outputs": [
        {
          "output_type": "execute_result",
          "data": {
            "text/plain": [
              "60000"
            ]
          },
          "metadata": {},
          "execution_count": 17
        }
      ]
    },
    {
      "cell_type": "code",
      "metadata": {
        "id": "zjqCYVv7EX1d",
        "colab": {
          "base_uri": "https://localhost:8080/"
        },
        "outputId": "7756191e-fa82-406d-c273-1058c09a0a2a"
      },
      "source": [
        "X_test.shape[0]"
      ],
      "execution_count": 18,
      "outputs": [
        {
          "output_type": "execute_result",
          "data": {
            "text/plain": [
              "10000"
            ]
          },
          "metadata": {},
          "execution_count": 18
        }
      ]
    },
    {
      "cell_type": "code",
      "source": [
        "def GPU(data):\n",
        "    return torch.tensor(data, requires_grad=True, dtype=torch.float, device=torch.device('cuda'))\n",
        "\n",
        "def GPU_data(data):\n",
        "    return torch.tensor(data, requires_grad=False, dtype=torch.float, device=torch.device('cuda'))"
      ],
      "metadata": {
        "id": "PyV8c4cyPAWp"
      },
      "execution_count": 19,
      "outputs": []
    },
    {
      "cell_type": "code",
      "metadata": {
        "id": "zBt4rsdIefV_"
      },
      "source": [
        "X = GPU_data(X)\n",
        "Y = GPU_data(Y)\n",
        "X_test = GPU_data(X_test)\n",
        "Y_test = GPU_data(Y_test)"
      ],
      "execution_count": 20,
      "outputs": []
    },
    {
      "cell_type": "code",
      "source": [
        "X = X.reshape(X.shape[0],784)\n",
        "X_test = X_test.reshape(X_test.shape[0],784)"
      ],
      "metadata": {
        "id": "qd6QY2wJ3DPk"
      },
      "execution_count": 21,
      "outputs": []
    },
    {
      "cell_type": "code",
      "source": [
        "X.shape"
      ],
      "metadata": {
        "id": "MKUw3_YO39T5",
        "colab": {
          "base_uri": "https://localhost:8080/"
        },
        "outputId": "2223f352-4db3-45e8-c9cd-da2edc88717f"
      },
      "execution_count": 22,
      "outputs": [
        {
          "output_type": "execute_result",
          "data": {
            "text/plain": [
              "torch.Size([60000, 784])"
            ]
          },
          "metadata": {},
          "execution_count": 22
        }
      ]
    },
    {
      "cell_type": "markdown",
      "source": [
        "\n",
        "### Classifier\n"
      ],
      "metadata": {
        "id": "aqdMV6v-2o3h"
      }
    },
    {
      "cell_type": "code",
      "metadata": {
        "id": "OqMKS4LqeBzy"
      },
      "source": [
        "x,y = get_batch('train')"
      ],
      "execution_count": 23,
      "outputs": []
    },
    {
      "cell_type": "code",
      "metadata": {
        "id": "NvewlRZCeB20",
        "colab": {
          "base_uri": "https://localhost:8080/"
        },
        "outputId": "0cd7a924-c61e-41c1-811d-03f987cffbe0"
      },
      "source": [
        "x.shape"
      ],
      "execution_count": 24,
      "outputs": [
        {
          "output_type": "execute_result",
          "data": {
            "text/plain": [
              "torch.Size([1000, 784])"
            ]
          },
          "metadata": {},
          "execution_count": 24
        }
      ]
    },
    {
      "cell_type": "code",
      "metadata": {
        "id": "Dfywj66KFh8Y",
        "colab": {
          "base_uri": "https://localhost:8080/",
          "height": 422
        },
        "outputId": "7a631f2a-9753-4d0e-ba3d-b2f3eaa54d81"
      },
      "source": [
        "plot(x[0].reshape(28,28))"
      ],
      "execution_count": 25,
      "outputs": [
        {
          "output_type": "display_data",
          "data": {
            "text/plain": [
              "<Figure size 500x500 with 1 Axes>"
            ],
            "image/png": "[encoded data removed]"
          },
          "metadata": {}
        }
      ]
    },
    {
      "cell_type": "code",
      "metadata": {
        "id": "ZsAhw-64HNJX",
        "colab": {
          "base_uri": "https://localhost:8080/",
          "height": 422
        },
        "outputId": "a2674583-32b4-4d87-a3cc-4217c3ddecd8"
      },
      "source": [
        "plot(x[1].reshape(28,28))"
      ],
      "execution_count": 26,
      "outputs": [
        {
          "output_type": "display_data",
          "data": {
            "text/plain": [
              "<Figure size 500x500 with 1 Axes>"
            ],
            "image/png": "[encoded data removed]"
          },
          "metadata": {}
        }
      ]
    },
    {
      "cell_type": "code",
      "metadata": {
        "id": "JfIkv97VHRaH",
        "colab": {
          "base_uri": "https://localhost:8080/",
          "height": 422
        },
        "outputId": "b38d9365-9fdb-40fb-d698-868417fe4993"
      },
      "source": [
        "plot(x[2].reshape(28,28))"
      ],
      "execution_count": 27,
      "outputs": [
        {
          "output_type": "display_data",
          "data": {
            "text/plain": [
              "<Figure size 500x500 with 1 Axes>"
            ],
            "image/png": "[encoded data removed]"
          },
          "metadata": {}
        }
      ]
    },
    {
      "cell_type": "code",
      "metadata": {
        "id": "hTYYsbmzGZzq",
        "colab": {
          "base_uri": "https://localhost:8080/"
        },
        "outputId": "cb529c32-0274-4c68-be7c-0d0b68bd595e"
      },
      "source": [
        "y[:10]"
      ],
      "execution_count": 28,
      "outputs": [
        {
          "output_type": "execute_result",
          "data": {
            "text/plain": [
              "tensor([3., 2., 4., 4., 4., 6., 2., 7., 1., 7.], device='cuda:0')"
            ]
          },
          "metadata": {},
          "execution_count": 28
        }
      ]
    },
    {
      "cell_type": "code",
      "source": [
        "W = GPU(np.random.randn(784,10))"
      ],
      "metadata": {
        "id": "G1MmJuRKC20Q"
      },
      "execution_count": 29,
      "outputs": []
    },
    {
      "cell_type": "code",
      "source": [],
      "metadata": {
        "id": "lwMdXtr_4R0q"
      },
      "execution_count": 29,
      "outputs": []
    },
    {
      "cell_type": "code",
      "metadata": {
        "id": "xNugjEScFiCC",
        "colab": {
          "base_uri": "https://localhost:8080/"
        },
        "outputId": "53da9717-cb19-4644-eea2-9c8778cad004"
      },
      "source": [
        "x.shape, W.shape"
      ],
      "execution_count": 30,
      "outputs": [
        {
          "output_type": "execute_result",
          "data": {
            "text/plain": [
              "(torch.Size([1000, 784]), torch.Size([784, 10]))"
            ]
          },
          "metadata": {},
          "execution_count": 30
        }
      ]
    },
    {
      "cell_type": "code",
      "metadata": {
        "id": "2fKhesUrFrYo",
        "colab": {
          "base_uri": "https://localhost:8080/"
        },
        "outputId": "4ea71b27-e199-4f0c-d92f-470f54810d1d"
      },
      "source": [
        "torch.matmul(x,W).shape"
      ],
      "execution_count": 31,
      "outputs": [
        {
          "output_type": "execute_result",
          "data": {
            "text/plain": [
              "torch.Size([1000, 10])"
            ]
          },
          "metadata": {},
          "execution_count": 31
        }
      ]
    },
    {
      "cell_type": "code",
      "metadata": {
        "id": "vXUJJil7VyS_",
        "colab": {
          "base_uri": "https://localhost:8080/"
        },
        "outputId": "40805041-f796-49fd-f012-1b6219b6193f"
      },
      "source": [
        "(x@W).shape"
      ],
      "execution_count": 32,
      "outputs": [
        {
          "output_type": "execute_result",
          "data": {
            "text/plain": [
              "torch.Size([1000, 10])"
            ]
          },
          "metadata": {},
          "execution_count": 32
        }
      ]
    },
    {
      "cell_type": "code",
      "metadata": {
        "id": "CCUIYKR-Il3c",
        "colab": {
          "base_uri": "https://localhost:8080/"
        },
        "outputId": "5a69ce91-e24d-48b0-a74f-1453efc64717"
      },
      "source": [
        "%%timeit\n",
        "x@W"
      ],
      "execution_count": 33,
      "outputs": [
        {
          "output_type": "stream",
          "name": "stdout",
          "text": [
            "22.5 µs ± 1.85 µs per loop (mean ± std. dev. of 7 runs, 10000 loops each)\n"
          ]
        }
      ]
    },
    {
      "cell_type": "code",
      "metadata": {
        "id": "GlQwtdaSeB5S",
        "colab": {
          "base_uri": "https://localhost:8080/"
        },
        "outputId": "571d0687-8db3-4a31-d37c-5ba92c29937c"
      },
      "source": [
        "x@W"
      ],
      "execution_count": 34,
      "outputs": [
        {
          "output_type": "execute_result",
          "data": {
            "text/plain": [
              "tensor([[ -0.2114,   7.4682,  -4.1327,  ..., -13.9445,  -0.8148, -11.7069],\n",
              "        [ 14.7487,   1.7124,  12.0816,  ...,   5.4831, -19.1891, -36.5311],\n",
              "        [ -3.6653,   5.8235,  -2.5325,  ...,  -4.2827,  -3.2135, -13.4154],\n",
              "        ...,\n",
              "        [  2.6063,  17.7674,  -6.5330,  ..., -11.9514,  -5.8764, -17.0823],\n",
              "        [ 13.2154,   6.4836,  14.1533,  ...,  -1.1548,  -9.3416,  -8.1390],\n",
              "        [ 13.4345,  12.0613,  15.1873,  ..., -11.8846, -10.5847, -18.6941]],\n",
              "       device='cuda:0', grad_fn=<MmBackward0>)"
            ]
          },
          "metadata": {},
          "execution_count": 34
        }
      ]
    },
    {
      "cell_type": "code",
      "metadata": {
        "id": "E2hgdUkmeB8W"
      },
      "source": [
        "y2 = x@W"
      ],
      "execution_count": 35,
      "outputs": []
    },
    {
      "cell_type": "code",
      "metadata": {
        "id": "ZdZImnZFGeT6",
        "colab": {
          "base_uri": "https://localhost:8080/",
          "height": 422
        },
        "outputId": "94383764-c217-4167-82d1-adfac732da58"
      },
      "source": [
        "plot(y2[:50])"
      ],
      "execution_count": 36,
      "outputs": [
        {
          "output_type": "display_data",
          "data": {
            "text/plain": [
              "<Figure size 500x500 with 1 Axes>"
            ],
            "image/png": "[encoded data removed]"
          },
          "metadata": {}
        }
      ]
    },
    {
      "cell_type": "code",
      "metadata": {
        "id": "eQSssyK-GoB2",
        "colab": {
          "base_uri": "https://localhost:8080/"
        },
        "outputId": "9cbec833-2294-430b-d5df-1412515a45cf"
      },
      "source": [
        "y"
      ],
      "execution_count": 37,
      "outputs": [
        {
          "output_type": "execute_result",
          "data": {
            "text/plain": [
              "tensor([3., 2., 4., 4., 4., 6., 2., 7., 1., 7., 1., 5., 6., 4., 6., 5., 7., 0.,\n",
              "        3., 9., 8., 9., 8., 8., 0., 0., 1., 2., 9., 0., 3., 3., 0., 5., 1., 6.,\n",
              "        0., 1., 2., 8., 9., 6., 9., 4., 6., 6., 4., 0., 8., 9., 2., 2., 8., 6.,\n",
              "        7., 4., 7., 3., 9., 9., 5., 3., 7., 0., 8., 0., 0., 5., 9., 2., 0., 5.,\n",
              "        5., 8., 7., 8., 0., 8., 9., 9., 1., 4., 8., 3., 2., 8., 0., 8., 2., 5.,\n",
              "        4., 5., 5., 7., 0., 1., 1., 3., 9., 6., 8., 9., 3., 4., 1., 1., 6., 7.,\n",
              "        1., 6., 0., 9., 1., 3., 2., 3., 4., 7., 7., 4., 5., 1., 1., 9., 7., 1.,\n",
              "        9., 0., 0., 6., 7., 0., 8., 1., 1., 2., 2., 3., 6., 4., 7., 5., 3., 6.,\n",
              "        8., 7., 0., 8., 4., 9., 7., 0., 5., 1., 4., 2., 1., 3., 5., 4., 6., 5.,\n",
              "        2., 6., 0., 7., 6., 8., 0., 9., 2., 0., 9., 1., 8., 2., 2., 3., 9., 4.,\n",
              "        6., 5., 4., 6., 5., 7., 7., 8., 5., 9., 3., 0., 6., 8., 6., 3., 0., 9.,\n",
              "        8., 5., 9., 5., 8., 2., 6., 6., 1., 8., 0., 4., 9., 9., 9., 1., 0., 7.,\n",
              "        3., 1., 3., 2., 0., 3., 7., 5., 1., 9., 0., 6., 5., 9., 9., 1., 2., 1.,\n",
              "        5., 1., 6., 2., 8., 9., 3., 5., 0., 6., 6., 8., 2., 1., 9., 2., 1., 0.,\n",
              "        0., 7., 0., 7., 0., 5., 1., 8., 9., 2., 7., 9., 1., 8., 2., 9., 0., 0.,\n",
              "        6., 4., 8., 7., 8., 3., 4., 4., 0., 5., 0., 6., 7., 0., 2., 3., 1., 6.,\n",
              "        9., 8., 2., 7., 4., 0., 7., 4., 9., 2., 1., 7., 0., 4., 5., 3., 0., 7.,\n",
              "        9., 5., 8., 4., 6., 3., 1., 4., 9., 2., 3., 8., 3., 1., 7., 5., 4., 1.,\n",
              "        7., 2., 7., 0., 5., 2., 6., 5., 1., 6., 5., 4., 2., 3., 0., 0., 5., 0.,\n",
              "        9., 0., 5., 3., 8., 3., 3., 5., 5., 7., 5., 0., 0., 6., 5., 4., 2., 8.,\n",
              "        3., 8., 1., 6., 4., 3., 1., 9., 2., 9., 5., 8., 2., 2., 5., 7., 1., 7.,\n",
              "        6., 1., 1., 0., 0., 1., 0., 2., 7., 3., 8., 4., 0., 5., 9., 8., 7., 9.,\n",
              "        9., 0., 6., 1., 1., 2., 5., 3., 4., 4., 0., 5., 2., 6., 8., 7., 0., 8.,\n",
              "        8., 9., 9., 0., 4., 1., 9., 2., 1., 3., 5., 4., 5., 5., 6., 6., 8., 7.,\n",
              "        3., 8., 4., 9., 6., 1., 6., 4., 5., 5., 6., 4., 3., 2., 6., 3., 1., 3.,\n",
              "        1., 0., 6., 9., 9., 5., 0., 4., 3., 3., 7., 0., 5., 8., 2., 4., 6., 0.,\n",
              "        6., 7., 8., 7., 0., 1., 9., 6., 5., 9., 5., 1., 4., 2., 5., 9., 7., 3.,\n",
              "        7., 6., 5., 2., 4., 3., 0., 4., 0., 6., 8., 8., 3., 5., 1., 7., 8., 2.,\n",
              "        2., 3., 8., 8., 9., 1., 2., 2., 7., 9., 7., 5., 5., 8., 1., 8., 5., 7.,\n",
              "        4., 1., 2., 7., 5., 1., 1., 1., 7., 0., 9., 3., 1., 4., 9., 2., 4., 6.,\n",
              "        1., 4., 0., 7., 8., 4., 1., 2., 1., 7., 8., 4., 1., 2., 3., 9., 4., 9.,\n",
              "        6., 2., 2., 8., 3., 6., 4., 1., 9., 0., 9., 6., 0., 8., 7., 5., 5., 5.,\n",
              "        1., 0., 3., 5., 4., 3., 2., 5., 8., 9., 6., 7., 8., 8., 1., 5., 4., 9.,\n",
              "        9., 6., 0., 9., 8., 0., 4., 6., 5., 3., 6., 0., 6., 5., 9., 8., 0., 9.,\n",
              "        9., 1., 1., 8., 7., 1., 6., 6., 9., 0., 5., 0., 6., 1., 4., 2., 1., 3.,\n",
              "        6., 4., 3., 5., 6., 6., 6., 7., 6., 8., 7., 9., 2., 0., 7., 1., 9., 2.,\n",
              "        3., 3., 6., 4., 9., 5., 4., 6., 0., 0., 4., 1., 1., 2., 4., 3., 4., 4.,\n",
              "        9., 5., 5., 6., 9., 7., 5., 8., 3., 9., 1., 1., 9., 4., 8., 5., 5., 3.,\n",
              "        9., 3., 8., 0., 7., 9., 4., 5., 5., 4., 1., 3., 7., 0., 9., 8., 7., 4.,\n",
              "        3., 6., 3., 7., 2., 0., 7., 7., 9., 7., 4., 1., 1., 6., 4., 9., 4., 1.,\n",
              "        0., 2., 2., 9., 2., 3., 0., 6., 5., 2., 9., 3., 4., 4., 3., 6., 9., 7.,\n",
              "        0., 2., 4., 3., 7., 8., 4., 1., 9., 2., 5., 9., 2., 8., 9., 8., 6., 7.,\n",
              "        1., 1., 4., 7., 3., 1., 7., 1., 9., 0., 2., 3., 6., 4., 6., 2., 9., 6.,\n",
              "        0., 4., 4., 7., 7., 4., 1., 2., 8., 7., 1., 4., 7., 2., 5., 9., 9., 2.,\n",
              "        7., 7., 7., 2., 3., 8., 9., 6., 7., 1., 6., 0., 1., 6., 6., 5., 3., 1.,\n",
              "        8., 3., 9., 5., 1., 9., 0., 7., 8., 4., 4., 8., 1., 9., 5., 6., 3., 9.,\n",
              "        4., 3., 1., 0., 8., 0., 8., 6., 7., 3., 3., 0., 9., 5., 9., 1., 3., 8.,\n",
              "        8., 1., 9., 6., 4., 0., 7., 0., 8., 1., 5., 2., 9., 3., 3., 4., 7., 5.,\n",
              "        2., 6., 1., 7., 7., 8., 0., 9., 5., 0., 0., 1., 1., 2., 4., 3., 7., 4.,\n",
              "        3., 6., 9., 7., 7., 8., 7., 0., 8., 1., 9., 2., 8., 3., 2., 4., 6., 7.,\n",
              "        0., 8., 0., 9., 7., 3., 2., 4., 3., 1., 5., 4., 3., 6., 2., 6., 9., 7.,\n",
              "        2., 3., 1., 3., 2., 2., 2., 1., 9., 9., 2., 4., 2., 7., 9., 3., 7., 5.,\n",
              "        2., 4., 1., 9., 3., 1., 4., 1., 9., 0., 4., 1., 7., 4., 4., 6., 3., 0.,\n",
              "        8., 2., 1., 1., 5., 7., 0., 5., 6., 0., 0., 0., 4., 2., 6., 0., 2., 6.,\n",
              "        4., 8., 3., 2., 6., 9., 4., 2., 7., 3., 3., 7., 2., 6., 7., 9., 1., 8.,\n",
              "        9., 7., 0., 8., 6., 9., 2., 2., 8., 2.], device='cuda:0')"
            ]
          },
          "metadata": {},
          "execution_count": 37
        }
      ]
    },
    {
      "cell_type": "code",
      "source": [
        "y.shape"
      ],
      "metadata": {
        "id": "asy5jw0oy_F7",
        "colab": {
          "base_uri": "https://localhost:8080/"
        },
        "outputId": "2b3594e9-32a6-4bb1-914f-31cadb76ea5d"
      },
      "execution_count": 38,
      "outputs": [
        {
          "output_type": "execute_result",
          "data": {
            "text/plain": [
              "torch.Size([1000])"
            ]
          },
          "metadata": {},
          "execution_count": 38
        }
      ]
    },
    {
      "cell_type": "code",
      "source": [
        "def one_hot(y):\n",
        "    y2 = GPU_data(torch.zeros((y.shape[0],10)))\n",
        "    for i in range(y.shape[0]):\n",
        "        y2[i,int(y[i])] = 1\n",
        "    return y2"
      ],
      "metadata": {
        "id": "BEgs4-skzhTC"
      },
      "execution_count": 39,
      "outputs": []
    },
    {
      "cell_type": "code",
      "metadata": {
        "id": "EB2kNOUHGpIw",
        "colab": {
          "base_uri": "https://localhost:8080/"
        },
        "outputId": "c34b7871-55f0-4079-dbaa-e04b5f67fac3"
      },
      "source": [
        "one_hot(y)"
      ],
      "execution_count": 40,
      "outputs": [
        {
          "output_type": "stream",
          "name": "stderr",
          "text": [
            "<ipython-input-19-c3d856de2607>:5: UserWarning: To copy construct from a tensor, it is recommended to use sourceTensor.clone().detach() or sourceTensor.clone().detach().requires_grad_(True), rather than torch.tensor(sourceTensor).\n",
            "  return torch.tensor(data, requires_grad=False, dtype=torch.float, device=torch.device('cuda'))\n"
          ]
        },
        {
          "output_type": "execute_result",
          "data": {
            "text/plain": [
              "tensor([[0., 0., 0.,  ..., 0., 0., 0.],\n",
              "        [0., 0., 1.,  ..., 0., 0., 0.],\n",
              "        [0., 0., 0.,  ..., 0., 0., 0.],\n",
              "        ...,\n",
              "        [0., 0., 1.,  ..., 0., 0., 0.],\n",
              "        [0., 0., 0.,  ..., 0., 1., 0.],\n",
              "        [0., 0., 1.,  ..., 0., 0., 0.]], device='cuda:0')"
            ]
          },
          "metadata": {},
          "execution_count": 40
        }
      ]
    },
    {
      "cell_type": "code",
      "metadata": {
        "id": "v91JZyTQeCMp",
        "colab": {
          "base_uri": "https://localhost:8080/"
        },
        "outputId": "703330e2-2f42-4271-b7c6-d9dee98ccabe"
      },
      "source": [
        "torch.argmax(y2,1)"
      ],
      "execution_count": 41,
      "outputs": [
        {
          "output_type": "execute_result",
          "data": {
            "text/plain": [
              "tensor([3, 3, 4, 5, 1, 5, 3, 3, 3, 0, 2, 5, 8, 5, 1, 1, 2, 2, 1, 5, 2, 3, 2, 3,\n",
              "        0, 1, 3, 3, 3, 5, 1, 1, 1, 5, 0, 1, 5, 3, 1, 2, 5, 5, 0, 4, 5, 5, 1, 5,\n",
              "        1, 3, 3, 2, 3, 5, 0, 4, 3, 2, 1, 4, 5, 2, 3, 1, 2, 5, 5, 1, 1, 3, 1, 0,\n",
              "        1, 3, 0, 1, 1, 3, 2, 0, 3, 3, 5, 3, 3, 3, 5, 3, 3, 1, 1, 5, 4, 0, 1, 3,\n",
              "        2, 3, 8, 5, 2, 4, 7, 1, 2, 3, 5, 0, 3, 5, 1, 3, 3, 1, 3, 2, 4, 4, 9, 3,\n",
              "        2, 0, 2, 4, 2, 3, 1, 5, 5, 3, 3, 0, 2, 3, 3, 3, 3, 3, 1, 3, 3, 5, 1, 5,\n",
              "        3, 1, 2, 3, 5, 1, 1, 2, 8, 0, 1, 3, 0, 5, 2, 4, 5, 5, 3, 5, 1, 0, 1, 3,\n",
              "        2, 1, 3, 5, 5, 3, 5, 3, 1, 1, 8, 1, 0, 5, 3, 5, 4, 1, 1, 1, 2, 3, 0, 1,\n",
              "        5, 5, 4, 3, 5, 2, 0, 5, 5, 5, 3, 3, 5, 5, 3, 5, 1, 4, 1, 1, 1, 3, 3, 0,\n",
              "        2, 3, 5, 0, 5, 3, 0, 1, 2, 1, 2, 5, 2, 3, 5, 2, 1, 0, 9, 3, 1, 1, 2, 3,\n",
              "        1, 5, 5, 3, 5, 5, 3, 0, 4, 3, 3, 1, 5, 2, 2, 4, 2, 0, 2, 5, 5, 3, 0, 3,\n",
              "        1, 3, 3, 1, 2, 5, 1, 1, 3, 1, 2, 2, 5, 4, 1, 5, 5, 5, 1, 0, 3, 2, 0, 5,\n",
              "        5, 1, 0, 1, 3, 5, 2, 3, 1, 3, 3, 4, 1, 5, 5, 1, 0, 1, 2, 5, 2, 4, 5, 2,\n",
              "        3, 4, 3, 1, 0, 1, 3, 3, 1, 5, 2, 3, 8, 5, 2, 1, 1, 8, 5, 5, 3, 5, 5, 3,\n",
              "        3, 3, 2, 5, 5, 5, 5, 2, 5, 2, 5, 2, 1, 5, 7, 1, 1, 2, 2, 5, 5, 1, 3, 2,\n",
              "        2, 1, 0, 5, 3, 3, 5, 5, 4, 1, 2, 1, 3, 3, 5, 2, 3, 2, 3, 3, 3, 4, 2, 2,\n",
              "        2, 3, 3, 1, 1, 3, 4, 2, 1, 2, 3, 5, 2, 2, 3, 2, 2, 3, 5, 1, 1, 5, 6, 2,\n",
              "        3, 3, 2, 1, 2, 2, 2, 5, 2, 4, 3, 2, 3, 3, 2, 1, 3, 3, 1, 2, 5, 3, 1, 2,\n",
              "        3, 3, 4, 5, 3, 2, 0, 3, 4, 2, 4, 2, 1, 3, 5, 2, 7, 3, 3, 3, 5, 8, 3, 2,\n",
              "        5, 5, 2, 1, 0, 4, 2, 2, 3, 5, 3, 3, 4, 1, 4, 1, 3, 2, 1, 4, 1, 1, 0, 2,\n",
              "        3, 3, 5, 3, 0, 1, 4, 1, 5, 3, 1, 1, 2, 3, 5, 3, 5, 2, 3, 2, 2, 1, 1, 0,\n",
              "        3, 5, 5, 2, 5, 2, 1, 2, 1, 5, 3, 1, 1, 1, 0, 2, 5, 1, 2, 2, 3, 1, 5, 2,\n",
              "        5, 2, 3, 2, 5, 1, 3, 5, 7, 3, 4, 0, 2, 3, 5, 1, 3, 3, 0, 2, 3, 1, 1, 0,\n",
              "        3, 3, 2, 5, 1, 1, 4, 5, 3, 2, 2, 3, 1, 2, 1, 2, 8, 0, 3, 4, 2, 1, 5, 2,\n",
              "        3, 2, 5, 2, 3, 3, 1, 2, 5, 1, 4, 1, 5, 1, 3, 4, 5, 1, 3, 3, 2, 1, 1, 3,\n",
              "        1, 1, 4, 2, 5, 2, 3, 2, 4, 1, 1, 5, 8, 2, 2, 1, 1, 2, 1, 3, 5, 2, 5, 0,\n",
              "        5, 3, 1, 3, 3, 1, 0, 1, 1, 2, 3, 3, 3, 1, 5, 5, 2, 4, 1, 2, 3, 3, 1, 3,\n",
              "        5, 1, 5, 0, 3, 1, 5, 5, 2, 1, 1, 3, 2, 3, 3, 1, 5, 4, 5, 1, 0, 5, 3, 0,\n",
              "        9, 5, 1, 3, 3, 3, 0, 4, 5, 1, 5, 1, 5, 1, 4, 5, 3, 3, 3, 0, 5, 0, 2, 1,\n",
              "        1, 5, 3, 0, 0, 0, 4, 5, 5, 0, 3, 5, 3, 4, 1, 1, 1, 3, 2, 4, 4, 3, 5, 3,\n",
              "        0, 1, 3, 3, 3, 1, 3, 2, 1, 3, 1, 1, 5, 1, 3, 5, 5, 3, 0, 3, 3, 0, 1, 5,\n",
              "        3, 3, 0, 5, 1, 4, 2, 5, 1, 5, 5, 2, 0, 5, 5, 0, 5, 0, 3, 3, 2, 0, 3, 1,\n",
              "        5, 3, 0, 3, 2, 5, 1, 4, 4, 1, 2, 5, 2, 3, 3, 1, 3, 5, 3, 3, 1, 4, 3, 3,\n",
              "        2, 0, 1, 3, 3, 5, 5, 5, 1, 1, 5, 2, 2, 5, 5, 0, 1, 0, 3, 1, 5, 0, 2, 3,\n",
              "        5, 0, 2, 3, 4, 3, 2, 3, 6, 3, 1, 5, 4, 1, 0, 2, 6, 5, 2, 5, 1, 5, 2, 0,\n",
              "        5, 1, 5, 3, 1, 3, 5, 3, 1, 5, 5, 2, 3, 2, 1, 3, 1, 1, 1, 1, 1, 0, 4, 1,\n",
              "        1, 3, 3, 5, 2, 3, 5, 5, 5, 5, 7, 0, 2, 3, 4, 1, 1, 5, 1, 5, 5, 1, 3, 2,\n",
              "        1, 4, 3, 3, 1, 3, 2, 1, 0, 4, 1, 3, 1, 3, 3, 0, 4, 3, 3, 1, 1, 0, 5, 5,\n",
              "        1, 5, 3, 5, 1, 3, 1, 2, 3, 1, 3, 5, 1, 0, 2, 1, 1, 5, 3, 3, 0, 3, 3, 1,\n",
              "        3, 4, 3, 5, 3, 3, 5, 3, 3, 1, 1, 0, 1, 3, 3, 3, 3, 7, 3, 5, 3, 0, 2, 0,\n",
              "        5, 1, 5, 1, 4, 1, 3, 5, 8, 1, 1, 5, 3, 0, 3, 3, 5, 5, 1, 1, 1, 1, 1, 5,\n",
              "        1, 3, 1, 5, 3, 0, 3, 0, 0, 5, 4, 4, 3, 3, 2, 3], device='cuda:0')"
            ]
          },
          "metadata": {},
          "execution_count": 41
        }
      ]
    },
    {
      "cell_type": "code",
      "metadata": {
        "id": "0hfl1lKrguTg",
        "colab": {
          "base_uri": "https://localhost:8080/"
        },
        "outputId": "169e814c-4e67-4317-d340-31f702974fc0"
      },
      "source": [
        "torch.sum(y == torch.argmax(y2,1))/b"
      ],
      "execution_count": 42,
      "outputs": [
        {
          "output_type": "execute_result",
          "data": {
            "text/plain": [
              "tensor(0.0890, device='cuda:0')"
            ]
          },
          "metadata": {},
          "execution_count": 42
        }
      ]
    },
    {
      "cell_type": "code",
      "metadata": {
        "id": "xz7Ea13HwarC",
        "colab": {
          "base_uri": "https://localhost:8080/"
        },
        "outputId": "e1745d9c-e795-418d-d00c-acabe9229520"
      },
      "source": [
        "X.shape"
      ],
      "execution_count": 43,
      "outputs": [
        {
          "output_type": "execute_result",
          "data": {
            "text/plain": [
              "torch.Size([60000, 784])"
            ]
          },
          "metadata": {},
          "execution_count": 43
        }
      ]
    },
    {
      "cell_type": "code",
      "metadata": {
        "id": "FNP2ahywwatJ",
        "colab": {
          "base_uri": "https://localhost:8080/"
        },
        "outputId": "df8c021b-8af2-48d5-aff3-acb64a3b478d"
      },
      "source": [
        "X@W"
      ],
      "execution_count": 44,
      "outputs": [
        {
          "output_type": "execute_result",
          "data": {
            "text/plain": [
              "tensor([[  1.0993,   2.8453,   1.6124,  ..., -10.5973,  -9.8648,  -5.0102],\n",
              "        [ 12.4941,   1.7070,   4.4320,  ...,   0.1195,  -4.6257, -15.6378],\n",
              "        [-13.2633,  10.7585,  -1.0766,  ...,   2.1898,  -4.3123,  -4.0760],\n",
              "        ...,\n",
              "        [ -0.9372,  -0.8329, -11.0989,  ...,  -5.4195,  -4.7533,  -2.7913],\n",
              "        [ -2.2890,   3.4468,  12.6920,  ...,  -0.2063,   3.8181, -23.9372],\n",
              "        [  5.8694,   0.2025,  -2.9228,  ...,   1.8986,  -8.4258,  -4.9199]],\n",
              "       device='cuda:0', grad_fn=<MmBackward0>)"
            ]
          },
          "metadata": {},
          "execution_count": 44
        }
      ]
    },
    {
      "cell_type": "code",
      "metadata": {
        "id": "WbGDRj7BwavA",
        "colab": {
          "base_uri": "https://localhost:8080/"
        },
        "outputId": "6acda620-a016-40d8-e05f-41cdcac3d52f"
      },
      "source": [
        "torch.argmax(X@W,1)"
      ],
      "execution_count": 45,
      "outputs": [
        {
          "output_type": "execute_result",
          "data": {
            "text/plain": [
              "tensor([5, 3, 1,  ..., 5, 2, 3], device='cuda:0')"
            ]
          },
          "metadata": {},
          "execution_count": 45
        }
      ]
    },
    {
      "cell_type": "code",
      "metadata": {
        "id": "EXTb4Y4ywaw3",
        "colab": {
          "base_uri": "https://localhost:8080/"
        },
        "outputId": "dce9148e-0594-4a6d-a987-5d1c986d178e"
      },
      "source": [
        "Y"
      ],
      "execution_count": 46,
      "outputs": [
        {
          "output_type": "execute_result",
          "data": {
            "text/plain": [
              "tensor([5., 0., 4.,  ..., 5., 6., 8.], device='cuda:0')"
            ]
          },
          "metadata": {},
          "execution_count": 46
        }
      ]
    },
    {
      "cell_type": "code",
      "metadata": {
        "id": "h_w3ksHVjQwu",
        "colab": {
          "base_uri": "https://localhost:8080/"
        },
        "outputId": "ea39395f-1197-4df3-f5e6-2551442156b3"
      },
      "source": [
        "torch.sum(torch.argmax(X@W,1) == Y)/60000"
      ],
      "execution_count": 47,
      "outputs": [
        {
          "output_type": "execute_result",
          "data": {
            "text/plain": [
              "tensor(0.0842, device='cuda:0')"
            ]
          },
          "metadata": {},
          "execution_count": 47
        }
      ]
    },
    {
      "cell_type": "code",
      "metadata": {
        "id": "n6RKfzVLnOTD",
        "colab": {
          "base_uri": "https://localhost:8080/"
        },
        "outputId": "75d8b68b-dc92-4662-e5ed-bd938d5d7b90"
      },
      "source": [
        "X@W"
      ],
      "execution_count": 48,
      "outputs": [
        {
          "output_type": "execute_result",
          "data": {
            "text/plain": [
              "tensor([[  1.0993,   2.8453,   1.6124,  ..., -10.5973,  -9.8648,  -5.0102],\n",
              "        [ 12.4941,   1.7070,   4.4320,  ...,   0.1195,  -4.6257, -15.6378],\n",
              "        [-13.2633,  10.7585,  -1.0766,  ...,   2.1898,  -4.3123,  -4.0760],\n",
              "        ...,\n",
              "        [ -0.9372,  -0.8329, -11.0989,  ...,  -5.4195,  -4.7533,  -2.7913],\n",
              "        [ -2.2890,   3.4468,  12.6920,  ...,  -0.2063,   3.8181, -23.9372],\n",
              "        [  5.8694,   0.2025,  -2.9228,  ...,   1.8986,  -8.4258,  -4.9199]],\n",
              "       device='cuda:0', grad_fn=<MmBackward0>)"
            ]
          },
          "metadata": {},
          "execution_count": 48
        }
      ]
    },
    {
      "cell_type": "code",
      "metadata": {
        "id": "GpOVv7nInOUw",
        "colab": {
          "base_uri": "https://localhost:8080/"
        },
        "outputId": "84189b84-8b42-4ebb-8490-021ea0a379f0"
      },
      "source": [
        "W.shape"
      ],
      "execution_count": 49,
      "outputs": [
        {
          "output_type": "execute_result",
          "data": {
            "text/plain": [
              "torch.Size([784, 10])"
            ]
          },
          "metadata": {},
          "execution_count": 49
        }
      ]
    },
    {
      "cell_type": "code",
      "metadata": {
        "id": "IRq_ouBUnOWx",
        "colab": {
          "base_uri": "https://localhost:8080/"
        },
        "outputId": "17828657-1552-4bde-854b-81e182513615"
      },
      "source": [
        "W[:,0].shape"
      ],
      "execution_count": 50,
      "outputs": [
        {
          "output_type": "execute_result",
          "data": {
            "text/plain": [
              "torch.Size([784])"
            ]
          },
          "metadata": {},
          "execution_count": 50
        }
      ]
    },
    {
      "cell_type": "code",
      "metadata": {
        "id": "uYWJulTHnOa1",
        "colab": {
          "base_uri": "https://localhost:8080/",
          "height": 422
        },
        "outputId": "25c1713e-b1c9-4b37-e135-63f3fb60b459"
      },
      "source": [
        "plot(W[:,0].reshape(28,28))"
      ],
      "execution_count": 51,
      "outputs": [
        {
          "output_type": "display_data",
          "data": {
            "text/plain": [
              "<Figure size 500x500 with 1 Axes>"
            ],
            "image/png": "[encoded data removed]"
          },
          "metadata": {}
        }
      ]
    },
    {
      "cell_type": "code",
      "metadata": {
        "id": "tupFwuSZnOk9",
        "colab": {
          "base_uri": "https://localhost:8080/",
          "height": 422
        },
        "outputId": "8271915d-3d91-4ece-fd74-61d7edb34ce3"
      },
      "source": [
        "plot(W[:,2].reshape(28,28))"
      ],
      "execution_count": 52,
      "outputs": [
        {
          "output_type": "display_data",
          "data": {
            "text/plain": [
              "<Figure size 500x500 with 1 Axes>"
            ],
            "image/png": "[encoded data removed]"
          },
          "metadata": {}
        }
      ]
    },
    {
      "cell_type": "code",
      "metadata": {
        "id": "Wvvy6MrAkC5Z",
        "colab": {
          "base_uri": "https://localhost:8080/"
        },
        "outputId": "64ebec40-3c78-4c64-8f4f-e61eaa7e740d"
      },
      "source": [
        "W.shape"
      ],
      "execution_count": 53,
      "outputs": [
        {
          "output_type": "execute_result",
          "data": {
            "text/plain": [
              "torch.Size([784, 10])"
            ]
          },
          "metadata": {},
          "execution_count": 53
        }
      ]
    },
    {
      "cell_type": "code",
      "metadata": {
        "id": "MCrJ9cNPkC76",
        "colab": {
          "base_uri": "https://localhost:8080/"
        },
        "outputId": "bbb003de-216b-4398-d1b5-786209d90f79"
      },
      "source": [
        "(W.T).shape"
      ],
      "execution_count": 54,
      "outputs": [
        {
          "output_type": "execute_result",
          "data": {
            "text/plain": [
              "torch.Size([10, 784])"
            ]
          },
          "metadata": {},
          "execution_count": 54
        }
      ]
    },
    {
      "cell_type": "code",
      "metadata": {
        "id": "wAkEKB2_jQyy",
        "colab": {
          "base_uri": "https://localhost:8080/",
          "height": 422
        },
        "outputId": "f3b423b4-1c90-49f4-c09d-0b4719e18b71"
      },
      "source": [
        "montage_plot((W.T).reshape(10,28,28).cpu().detach().numpy())"
      ],
      "execution_count": 55,
      "outputs": [
        {
          "output_type": "display_data",
          "data": {
            "text/plain": [
              "<Figure size 500x500 with 1 Axes>"
            ],
            "image/png": "[encoded data removed]"
          },
          "metadata": {}
        }
      ]
    },
    {
      "cell_type": "code",
      "metadata": {
        "id": "m4BlYG-CgC2z"
      },
      "source": [
        "def softmax(x):\n",
        "    s1 = torch.exp(x - torch.max(x,1)[0][:,None])\n",
        "    s = s1 / s1.sum(1)[:,None]\n",
        "    return s"
      ],
      "execution_count": 56,
      "outputs": []
    },
    {
      "cell_type": "code",
      "metadata": {
        "id": "XZ-UV8W_c_9o"
      },
      "source": [
        "def cross_entropy(outputs, labels):\n",
        "    return -torch.sum(softmax(outputs).log()[range(outputs.size()[0]), labels.long()])/outputs.size()[0]"
      ],
      "execution_count": 57,
      "outputs": []
    },
    {
      "cell_type": "code",
      "metadata": {
        "id": "LW3ttVcq1sI9"
      },
      "source": [
        "def acc(out,y):\n",
        "    return (torch.sum(torch.max(out,1)[1] == y).item())/y.shape[0]"
      ],
      "execution_count": 58,
      "outputs": []
    },
    {
      "cell_type": "code",
      "metadata": {
        "id": "x79Sie8XKPOC"
      },
      "source": [
        "def get_batch(mode):\n",
        "    b = c.b\n",
        "    if mode == \"train\":\n",
        "        r = np.random.randint(X.shape[0]-b)\n",
        "        x = X[r:r+b,:]\n",
        "        y = Y[r:r+b]\n",
        "    elif mode == \"test\":\n",
        "        r = np.random.randint(X_test.shape[0]-b)\n",
        "        x = X_test[r:r+b,:]\n",
        "        y = Y_test[r:r+b]\n",
        "    return x,y"
      ],
      "execution_count": 59,
      "outputs": []
    },
    {
      "cell_type": "code",
      "metadata": {
        "id": "vXOr9aM8A8P-"
      },
      "source": [
        "def model(x,w):\n",
        "\n",
        "    return x@w[0]"
      ],
      "execution_count": 60,
      "outputs": []
    },
    {
      "cell_type": "code",
      "metadata": {
        "id": "-k6j0lacnYYk"
      },
      "source": [
        "def gradient_step(w):\n",
        "\n",
        "    w[0].data = w[0].data - c.L*w[0].grad.data\n",
        "\n",
        "    w[0].grad.data.zero_()"
      ],
      "execution_count": 61,
      "outputs": []
    },
    {
      "cell_type": "code",
      "metadata": {
        "id": "uzRsuDek9Fve"
      },
      "source": [
        "def make_plots():\n",
        "\n",
        "    acc_train = acc(model(x,w),y)\n",
        "\n",
        "    xt,yt = get_batch('test')\n",
        "\n",
        "    acc_test = acc(model(xt,w),yt)\n",
        "\n",
        "    wb.log({\"acc_train\": acc_train, \"acc_test\": acc_test})"
      ],
      "execution_count": 62,
      "outputs": []
    },
    {
      "cell_type": "code",
      "source": [
        "def Truncated_Normal(size):\n",
        "\n",
        "    u1 = torch.rand(size)*(1-np.exp(-2)) + np.exp(-2)\n",
        "    u2 = torch.rand(size)\n",
        "    z  = torch.sqrt(-2*torch.log(u1)) * torch.cos(2*np.pi*u2)\n",
        "\n",
        "    return z"
      ],
      "metadata": {
        "id": "fx6a-FjX6bEN"
      },
      "execution_count": 63,
      "outputs": []
    },
    {
      "cell_type": "code",
      "metadata": {
        "id": "v_6a6qnKA7zP",
        "colab": {
          "base_uri": "https://localhost:8080/",
          "height": 884
        },
        "outputId": "eef95f1e-029b-43c1-a71d-345954c1189b"
      },
      "source": [
        "for run in range(3):\n",
        "\n",
        "    wb.init(project=\"Simple_Linear_SGD_123\");\n",
        "    c = wb.config\n",
        "\n",
        "    c.L = 0.1\n",
        "    c.b = 1024\n",
        "    c.epochs = 10000\n",
        "\n",
        "    w = [GPU(Truncated_Normal((784,10)))]\n",
        "\n",
        "    for i in range(c.epochs):\n",
        "\n",
        "        x,y = get_batch('train')\n",
        "\n",
        "        out = model(x,w)\n",
        "\n",
        "        loss = cross_entropy(softmax(out),y)\n",
        "\n",
        "        loss.backward()\n",
        "\n",
        "        gradient_step(w)\n",
        "\n",
        "        make_plots()\n",
        "\n",
        "        if (i+1) % 10000 == 0: montage_plot((w[0].T).reshape(10,28,28).cpu().detach().numpy())"
      ],
      "execution_count": 64,
      "outputs": [
        {
          "output_type": "display_data",
          "data": {
            "text/plain": [
              "<IPython.core.display.Javascript object>"
            ],
            "application/javascript": [
              "\n",
              "        window._wandbApiKey = new Promise((resolve, reject) => {\n",
              "            function loadScript(url) {\n",
              "            return new Promise(function(resolve, reject) {\n",
              "                let newScript = document.createElement(\"script\");\n",
              "                newScript.onerror = reject;\n",
              "                newScript.onload = resolve;\n",
              "                document.body.appendChild(newScript);\n",
              "                newScript.src = url;\n",
              "            });\n",
              "            }\n",
              "            loadScript(\"https://cdn.jsdelivr.net/npm/postmate/build/postmate.min.js\").then(() => {\n",
              "            const iframe = document.createElement('iframe')\n",
              "            iframe.style.cssText = \"width:0;height:0;border:none\"\n",
              "            document.body.appendChild(iframe)\n",
              "            const handshake = new Postmate({\n",
              "                container: iframe,\n",
              "                url: 'https://wandb.ai/authorize'\n",
              "            });\n",
              "            const timeout = setTimeout(() => reject(\"Couldn't auto authenticate\"), 5000)\n",
              "            handshake.then(function(child) {\n",
              "                child.on('authorize', data => {\n",
              "                    clearTimeout(timeout)\n",
              "                    resolve(data)\n",
              "                });\n",
              "            });\n",
              "            })\n",
              "        });\n",
              "    "
            ]
          },
          "metadata": {}
        },
        {
          "output_type": "stream",
          "name": "stderr",
          "text": [
            "\u001b[34m\u001b[1mwandb\u001b[0m: Logging into wandb.ai. (Learn how to deploy a W&B server locally: https://wandb.me/wandb-server)\n",
            "\u001b[34m\u001b[1mwandb\u001b[0m: You can find your API key in your browser here: https://wandb.ai/authorize\n",
            "wandb: Paste an API key from your profile and hit enter, or press ctrl+c to quit:\n",
            "Traceback (most recent call last):\n",
            "  File \"/usr/local/lib/python3.10/dist-packages/wandb/sdk/wandb_init.py\", line 1172, in init\n",
            "    wi.setup(kwargs)\n",
            "  File \"/usr/local/lib/python3.10/dist-packages/wandb/sdk/wandb_init.py\", line 306, in setup\n",
            "    wandb_login._login(\n",
            "  File \"/usr/local/lib/python3.10/dist-packages/wandb/sdk/wandb_login.py\", line 317, in _login\n",
            "    wlogin.prompt_api_key()\n",
            "  File \"/usr/local/lib/python3.10/dist-packages/wandb/sdk/wandb_login.py\", line 240, in prompt_api_key\n",
            "    key, status = self._prompt_api_key()\n",
            "  File \"/usr/local/lib/python3.10/dist-packages/wandb/sdk/wandb_login.py\", line 220, in _prompt_api_key\n",
            "    key = apikey.prompt_api_key(\n",
            "  File \"/usr/local/lib/python3.10/dist-packages/wandb/sdk/lib/apikey.py\", line 151, in prompt_api_key\n",
            "    key = input_callback(api_ask).strip()\n",
            "  File \"/usr/local/lib/python3.10/dist-packages/click/termui.py\", line 164, in prompt\n",
            "    value = prompt_func(prompt)\n",
            "  File \"/usr/local/lib/python3.10/dist-packages/click/termui.py\", line 147, in prompt_func\n",
            "    raise Abort() from None\n",
            "click.exceptions.Abort\n"
          ]
        },
        {
          "output_type": "error",
          "ename": "Error",
          "evalue": "An unexpected error occurred",
          "traceback": [
            "\u001b[0;31m---------------------------------------------------------------------------\u001b[0m",
            "\u001b[0;31mAbort\u001b[0m                                     Traceback (most recent call last)",
            "\u001b[0;32m/usr/local/lib/python3.10/dist-packages/wandb/sdk/wandb_init.py\u001b[0m in \u001b[0;36minit\u001b[0;34m(job_type, dir, config, project, entity, reinit, tags, group, name, notes, magic, config_exclude_keys, config_include_keys, anonymous, mode, allow_val_change, resume, force, tensorboard, sync_tensorboard, monitor_gym, save_code, id, settings)\u001b[0m\n\u001b[1;32m   1171\u001b[0m         \u001b[0mwi\u001b[0m \u001b[0;34m=\u001b[0m \u001b[0m_WandbInit\u001b[0m\u001b[0;34m(\u001b[0m\u001b[0;34m)\u001b[0m\u001b[0;34m\u001b[0m\u001b[0;34m\u001b[0m\u001b[0m\n\u001b[0;32m-> 1172\u001b[0;31m         \u001b[0mwi\u001b[0m\u001b[0;34m.\u001b[0m\u001b[0msetup\u001b[0m\u001b[0;34m(\u001b[0m\u001b[0mkwargs\u001b[0m\u001b[0;34m)\u001b[0m\u001b[0;34m\u001b[0m\u001b[0;34m\u001b[0m\u001b[0m\n\u001b[0m\u001b[1;32m   1173\u001b[0m         \u001b[0;32massert\u001b[0m \u001b[0mwi\u001b[0m\u001b[0;34m.\u001b[0m\u001b[0msettings\u001b[0m\u001b[0;34m\u001b[0m\u001b[0;34m\u001b[0m\u001b[0m\n",
            "\u001b[0;32m/usr/local/lib/python3.10/dist-packages/wandb/sdk/wandb_init.py\u001b[0m in \u001b[0;36msetup\u001b[0;34m(self, kwargs)\u001b[0m\n\u001b[1;32m    305\u001b[0m         \u001b[0;32mif\u001b[0m \u001b[0;32mnot\u001b[0m \u001b[0msettings\u001b[0m\u001b[0;34m.\u001b[0m\u001b[0m_offline\u001b[0m \u001b[0;32mand\u001b[0m \u001b[0;32mnot\u001b[0m \u001b[0msettings\u001b[0m\u001b[0;34m.\u001b[0m\u001b[0m_noop\u001b[0m\u001b[0;34m:\u001b[0m\u001b[0;34m\u001b[0m\u001b[0;34m\u001b[0m\u001b[0m\n\u001b[0;32m--> 306\u001b[0;31m             wandb_login._login(\n\u001b[0m\u001b[1;32m    307\u001b[0m                 \u001b[0manonymous\u001b[0m\u001b[0;34m=\u001b[0m\u001b[0mkwargs\u001b[0m\u001b[0;34m.\u001b[0m\u001b[0mpop\u001b[0m\u001b[0;34m(\u001b[0m\u001b[0;34m\"anonymous\"\u001b[0m\u001b[0;34m,\u001b[0m \u001b[0;32mNone\u001b[0m\u001b[0;34m)\u001b[0m\u001b[0;34m,\u001b[0m\u001b[0;34m\u001b[0m\u001b[0;34m\u001b[0m\u001b[0m\n",
            "\u001b[0;32m/usr/local/lib/python3.10/dist-packages/wandb/sdk/wandb_login.py\u001b[0m in \u001b[0;36m_login\u001b[0;34m(anonymous, key, relogin, host, force, timeout, _backend, _silent, _disable_warning, _entity)\u001b[0m\n\u001b[1;32m    316\u001b[0m     \u001b[0;32mif\u001b[0m \u001b[0;32mnot\u001b[0m \u001b[0mkey\u001b[0m\u001b[0;34m:\u001b[0m\u001b[0;34m\u001b[0m\u001b[0;34m\u001b[0m\u001b[0m\n\u001b[0;32m--> 317\u001b[0;31m         \u001b[0mwlogin\u001b[0m\u001b[0;34m.\u001b[0m\u001b[0mprompt_api_key\u001b[0m\u001b[0;34m(\u001b[0m\u001b[0;34m)\u001b[0m\u001b[0;34m\u001b[0m\u001b[0;34m\u001b[0m\u001b[0m\n\u001b[0m\u001b[1;32m    318\u001b[0m \u001b[0;34m\u001b[0m\u001b[0m\n",
            "\u001b[0;32m/usr/local/lib/python3.10/dist-packages/wandb/sdk/wandb_login.py\u001b[0m in \u001b[0;36mprompt_api_key\u001b[0;34m(self)\u001b[0m\n\u001b[1;32m    239\u001b[0m     \u001b[0;32mdef\u001b[0m \u001b[0mprompt_api_key\u001b[0m\u001b[0;34m(\u001b[0m\u001b[0mself\u001b[0m\u001b[0;34m)\u001b[0m\u001b[0;34m:\u001b[0m\u001b[0;34m\u001b[0m\u001b[0;34m\u001b[0m\u001b[0m\n\u001b[0;32m--> 240\u001b[0;31m         \u001b[0mkey\u001b[0m\u001b[0;34m,\u001b[0m \u001b[0mstatus\u001b[0m \u001b[0;34m=\u001b[0m \u001b[0mself\u001b[0m\u001b[0;34m.\u001b[0m\u001b[0m_prompt_api_key\u001b[0m\u001b[0;34m(\u001b[0m\u001b[0;34m)\u001b[0m\u001b[0;34m\u001b[0m\u001b[0;34m\u001b[0m\u001b[0m\n\u001b[0m\u001b[1;32m    241\u001b[0m         \u001b[0;32mif\u001b[0m \u001b[0mstatus\u001b[0m \u001b[0;34m==\u001b[0m \u001b[0mApiKeyStatus\u001b[0m\u001b[0;34m.\u001b[0m\u001b[0mNOTTY\u001b[0m\u001b[0;34m:\u001b[0m\u001b[0;34m\u001b[0m\u001b[0;34m\u001b[0m\u001b[0m\n",
            "\u001b[0;32m/usr/local/lib/python3.10/dist-packages/wandb/sdk/wandb_login.py\u001b[0m in \u001b[0;36m_prompt_api_key\u001b[0;34m(self)\u001b[0m\n\u001b[1;32m    219\u001b[0m             \u001b[0;32mtry\u001b[0m\u001b[0;34m:\u001b[0m\u001b[0;34m\u001b[0m\u001b[0;34m\u001b[0m\u001b[0m\n\u001b[0;32m--> 220\u001b[0;31m                 key = apikey.prompt_api_key(\n\u001b[0m\u001b[1;32m    221\u001b[0m                     \u001b[0mself\u001b[0m\u001b[0;34m.\u001b[0m\u001b[0m_settings\u001b[0m\u001b[0;34m,\u001b[0m\u001b[0;34m\u001b[0m\u001b[0;34m\u001b[0m\u001b[0m\n",
            "\u001b[0;32m/usr/local/lib/python3.10/dist-packages/wandb/sdk/lib/apikey.py\u001b[0m in \u001b[0;36mprompt_api_key\u001b[0;34m(settings, api, input_callback, browser_callback, no_offline, no_create, local)\u001b[0m\n\u001b[1;32m    150\u001b[0m             )\n\u001b[0;32m--> 151\u001b[0;31m             \u001b[0mkey\u001b[0m \u001b[0;34m=\u001b[0m \u001b[0minput_callback\u001b[0m\u001b[0;34m(\u001b[0m\u001b[0mapi_ask\u001b[0m\u001b[0;34m)\u001b[0m\u001b[0;34m.\u001b[0m\u001b[0mstrip\u001b[0m\u001b[0;34m(\u001b[0m\u001b[0;34m)\u001b[0m\u001b[0;34m\u001b[0m\u001b[0;34m\u001b[0m\u001b[0m\n\u001b[0m\u001b[1;32m    152\u001b[0m         \u001b[0mwrite_key\u001b[0m\u001b[0;34m(\u001b[0m\u001b[0msettings\u001b[0m\u001b[0;34m,\u001b[0m \u001b[0mkey\u001b[0m\u001b[0;34m,\u001b[0m \u001b[0mapi\u001b[0m\u001b[0;34m=\u001b[0m\u001b[0mapi\u001b[0m\u001b[0;34m)\u001b[0m\u001b[0;34m\u001b[0m\u001b[0;34m\u001b[0m\u001b[0m\n",
            "\u001b[0;32m/usr/local/lib/python3.10/dist-packages/click/termui.py\u001b[0m in \u001b[0;36mprompt\u001b[0;34m(text, default, hide_input, confirmation_prompt, type, value_proc, prompt_suffix, show_default, err, show_choices)\u001b[0m\n\u001b[1;32m    163\u001b[0m         \u001b[0;32mwhile\u001b[0m \u001b[0;32mTrue\u001b[0m\u001b[0;34m:\u001b[0m\u001b[0;34m\u001b[0m\u001b[0;34m\u001b[0m\u001b[0m\n\u001b[0;32m--> 164\u001b[0;31m             \u001b[0mvalue\u001b[0m \u001b[0;34m=\u001b[0m \u001b[0mprompt_func\u001b[0m\u001b[0;34m(\u001b[0m\u001b[0mprompt\u001b[0m\u001b[0;34m)\u001b[0m\u001b[0;34m\u001b[0m\u001b[0;34m\u001b[0m\u001b[0m\n\u001b[0m\u001b[1;32m    165\u001b[0m             \u001b[0;32mif\u001b[0m \u001b[0mvalue\u001b[0m\u001b[0;34m:\u001b[0m\u001b[0;34m\u001b[0m\u001b[0;34m\u001b[0m\u001b[0m\n",
            "\u001b[0;32m/usr/local/lib/python3.10/dist-packages/click/termui.py\u001b[0m in \u001b[0;36mprompt_func\u001b[0;34m(text)\u001b[0m\n\u001b[1;32m    146\u001b[0m                 \u001b[0mecho\u001b[0m\u001b[0;34m(\u001b[0m\u001b[0;32mNone\u001b[0m\u001b[0;34m,\u001b[0m \u001b[0merr\u001b[0m\u001b[0;34m=\u001b[0m\u001b[0merr\u001b[0m\u001b[0;34m)\u001b[0m\u001b[0;34m\u001b[0m\u001b[0;34m\u001b[0m\u001b[0m\n\u001b[0;32m--> 147\u001b[0;31m             \u001b[0;32mraise\u001b[0m \u001b[0mAbort\u001b[0m\u001b[0;34m(\u001b[0m\u001b[0;34m)\u001b[0m \u001b[0;32mfrom\u001b[0m \u001b[0;32mNone\u001b[0m\u001b[0;34m\u001b[0m\u001b[0;34m\u001b[0m\u001b[0m\n\u001b[0m\u001b[1;32m    148\u001b[0m \u001b[0;34m\u001b[0m\u001b[0m\n",
            "\u001b[0;31mAbort\u001b[0m: ",
            "\nThe above exception was the direct cause of the following exception:\n",
            "\u001b[0;31mError\u001b[0m                                     Traceback (most recent call last)",
            "\u001b[0;32m<ipython-input-64-fc3a059e8031>\u001b[0m in \u001b[0;36m<cell line: 1>\u001b[0;34m()\u001b[0m\n\u001b[1;32m      1\u001b[0m \u001b[0;32mfor\u001b[0m \u001b[0mrun\u001b[0m \u001b[0;32min\u001b[0m \u001b[0mrange\u001b[0m\u001b[0;34m(\u001b[0m\u001b[0;36m3\u001b[0m\u001b[0;34m)\u001b[0m\u001b[0;34m:\u001b[0m\u001b[0;34m\u001b[0m\u001b[0;34m\u001b[0m\u001b[0m\n\u001b[1;32m      2\u001b[0m \u001b[0;34m\u001b[0m\u001b[0m\n\u001b[0;32m----> 3\u001b[0;31m     \u001b[0mwb\u001b[0m\u001b[0;34m.\u001b[0m\u001b[0minit\u001b[0m\u001b[0;34m(\u001b[0m\u001b[0mproject\u001b[0m\u001b[0;34m=\u001b[0m\u001b[0;34m\"Simple_Linear_SGD_123\"\u001b[0m\u001b[0;34m)\u001b[0m\u001b[0;34m;\u001b[0m\u001b[0;34m\u001b[0m\u001b[0;34m\u001b[0m\u001b[0m\n\u001b[0m\u001b[1;32m      4\u001b[0m     \u001b[0mc\u001b[0m \u001b[0;34m=\u001b[0m \u001b[0mwb\u001b[0m\u001b[0;34m.\u001b[0m\u001b[0mconfig\u001b[0m\u001b[0;34m\u001b[0m\u001b[0;34m\u001b[0m\u001b[0m\n\u001b[1;32m      5\u001b[0m \u001b[0;34m\u001b[0m\u001b[0m\n",
            "\u001b[0;32m/usr/local/lib/python3.10/dist-packages/wandb/sdk/wandb_init.py\u001b[0m in \u001b[0;36minit\u001b[0;34m(job_type, dir, config, project, entity, reinit, tags, group, name, notes, magic, config_exclude_keys, config_include_keys, anonymous, mode, allow_val_change, resume, force, tensorboard, sync_tensorboard, monitor_gym, save_code, id, settings)\u001b[0m\n\u001b[1;32m   1212\u001b[0m                 \u001b[0mwandb\u001b[0m\u001b[0;34m.\u001b[0m\u001b[0mtermerror\u001b[0m\u001b[0;34m(\u001b[0m\u001b[0;34m\"Abnormal program exit\"\u001b[0m\u001b[0;34m)\u001b[0m\u001b[0;34m\u001b[0m\u001b[0;34m\u001b[0m\u001b[0m\n\u001b[1;32m   1213\u001b[0m                 \u001b[0mos\u001b[0m\u001b[0;34m.\u001b[0m\u001b[0m_exit\u001b[0m\u001b[0;34m(\u001b[0m\u001b[0;36m1\u001b[0m\u001b[0;34m)\u001b[0m\u001b[0;34m\u001b[0m\u001b[0;34m\u001b[0m\u001b[0m\n\u001b[0;32m-> 1214\u001b[0;31m             \u001b[0;32mraise\u001b[0m \u001b[0mError\u001b[0m\u001b[0;34m(\u001b[0m\u001b[0;34m\"An unexpected error occurred\"\u001b[0m\u001b[0;34m)\u001b[0m \u001b[0;32mfrom\u001b[0m \u001b[0merror_seen\u001b[0m\u001b[0;34m\u001b[0m\u001b[0;34m\u001b[0m\u001b[0m\n\u001b[0m\u001b[1;32m   1215\u001b[0m     \u001b[0;32mreturn\u001b[0m \u001b[0mrun\u001b[0m\u001b[0;34m\u001b[0m\u001b[0;34m\u001b[0m\u001b[0m\n",
            "\u001b[0;31mError\u001b[0m: An unexpected error occurred"
          ]
        }
      ]
    },
    {
      "cell_type": "code",
      "metadata": {
        "id": "WANJibeUNghZ"
      },
      "source": [
        "for run in range(100):\n",
        "\n",
        "    wb.init(project=\"Simple_Linear_Adam_2\");\n",
        "    c = wb.config\n",
        "\n",
        "    c.L = 0.01\n",
        "    c.b = 1024\n",
        "    c.epochs = 100000\n",
        "\n",
        "    w = [GPU(Truncated_Normal((784,10)))]\n",
        "\n",
        "    optimizer = torch.optim.Adam(w, lr=c.L)\n",
        "\n",
        "    for i in range(c.epochs):\n",
        "\n",
        "        x,y = get_batch('train')\n",
        "\n",
        "        loss = cross_entropy(softmax(model(x,w)),y)\n",
        "\n",
        "        optimizer.zero_grad()\n",
        "        loss.backward()\n",
        "        optimizer.step()\n",
        "\n",
        "        wb.log({\"loss\": loss})\n",
        "\n",
        "        make_plots()\n",
        "\n",
        "        if i % 10000 == 0 : montage_plot((w[0].T).reshape(10,28,28).cpu().detach().numpy())"
      ],
      "execution_count": null,
      "outputs": []
    },
    {
      "cell_type": "markdown",
      "source": [
        "\n",
        "### Autoencoder\n"
      ],
      "metadata": {
        "id": "MMkIx6bTNy8g"
      }
    },
    {
      "cell_type": "code",
      "source": [
        "def get_batch(mode):\n",
        "    b = 1024\n",
        "    if mode == \"train\":\n",
        "        r = np.random.randint(X.shape[0]-b)\n",
        "        x = X[r:r+b,:]\n",
        "        y = Y[r:r+b]\n",
        "    elif mode == \"test\":\n",
        "        r = np.random.randint(X_test.shape[0]-b)\n",
        "        x = X_test[r:r+b,:]\n",
        "        y = Y_test[r:r+b]\n",
        "    return x,y"
      ],
      "metadata": {
        "id": "7QaW3xn0-M-l"
      },
      "execution_count": null,
      "outputs": []
    },
    {
      "cell_type": "code",
      "source": [
        "X = X.reshape(X.shape[0],1,28,28)\n",
        "X_test = X_test.reshape(X_test.shape[0],1,28,28)"
      ],
      "metadata": {
        "id": "WBQQOXS7XU-k"
      },
      "execution_count": null,
      "outputs": []
    },
    {
      "cell_type": "code",
      "source": [
        "import torchvision\n",
        "from torch.nn.functional import *"
      ],
      "metadata": {
        "id": "Ieh4jE_laYn2"
      },
      "execution_count": null,
      "outputs": []
    },
    {
      "cell_type": "code",
      "source": [
        "X = torchvision.transforms.functional.normalize(X,0.5,0.5)\n",
        "X_test = torchvision.transforms.functional.normalize(X_test,0.5,0.5)"
      ],
      "metadata": {
        "id": "N4StPT7VBG9O"
      },
      "execution_count": null,
      "outputs": []
    },
    {
      "cell_type": "code",
      "metadata": {
        "id": "UafuXvzKjSw7"
      },
      "source": [
        "def Encoder(x,w):\n",
        "    x = relu(conv2d(x,w[0], stride=(2, 2), padding=(1, 1)))\n",
        "    x = relu(conv2d(x,w[1], stride=(2, 2), padding=(1, 1)))\n",
        "    x = x.view(x.size(0), 6272)\n",
        "    x = linear(x,w[2])\n",
        "    return x"
      ],
      "execution_count": null,
      "outputs": []
    },
    {
      "cell_type": "code",
      "metadata": {
        "id": "ivvSdA3VjSw_"
      },
      "source": [
        "def Decoder(x,w):\n",
        "    x = linear(x,w[3])\n",
        "    x = x.view(x.size(0), 128, 7, 7)\n",
        "    x = relu(conv_transpose2d(x,w[4], stride=(2, 2), padding=(1, 1)))\n",
        "    x = torch.tanh(conv_transpose2d(x,w[5], stride=(2, 2), padding=(1, 1)))\n",
        "    return x"
      ],
      "execution_count": null,
      "outputs": []
    },
    {
      "cell_type": "code",
      "metadata": {
        "id": "R8TLNLTkjSxG"
      },
      "source": [
        "def Autoencoder(x,w):\n",
        "    return Decoder(Encoder(x,w),w)"
      ],
      "execution_count": null,
      "outputs": []
    },
    {
      "cell_type": "code",
      "metadata": {
        "id": "-iw6YTpBU8sr"
      },
      "source": [
        "num_steps = 1000\n",
        "batch_size = 512\n",
        "learning_rate = 1e-3"
      ],
      "execution_count": null,
      "outputs": []
    },
    {
      "cell_type": "code",
      "source": [
        "from scipy import stats\n",
        "import numpy as np\n",
        "import matplotlib.pyplot as plt\n",
        "import urllib.request\n",
        "from PIL import Image\n",
        "from imageio import *\n",
        "import torch\n",
        "from skimage.transform import resize\n",
        "from mpl_toolkits.axes_grid1.axes_rgb import make_rgb_axes, RGBAxes\n",
        "from torchvision.models import *\n",
        "from torchvision.datasets import MNIST,KMNIST,FashionMNIST\n",
        "from skimage.util import montage"
      ],
      "metadata": {
        "id": "wmj18jh0bJW8"
      },
      "execution_count": null,
      "outputs": []
    },
    {
      "cell_type": "code",
      "source": [
        "def randn_trunc(s): #Truncated Normal Random Numbers\n",
        "    mu = 0\n",
        "    sigma = 0.1\n",
        "    R = stats.truncnorm((-2*sigma - mu) / sigma, (2*sigma - mu) / sigma, loc=mu, scale=sigma)\n",
        "    return R.rvs(s)"
      ],
      "metadata": {
        "id": "3t3l54lzbGSE"
      },
      "execution_count": null,
      "outputs": []
    },
    {
      "cell_type": "code",
      "metadata": {
        "scrolled": true,
        "id": "Au5YND2GU8sr"
      },
      "source": [
        "#Encode\n",
        "w0 = GPU(randn_trunc((64,1,4,4)))\n",
        "w1 = GPU(randn_trunc((128,64,4,4)))\n",
        "w2 = GPU(randn_trunc((10,6272)))\n",
        "#Decode\n",
        "w3 = GPU(randn_trunc((6272,10)))\n",
        "w4 = GPU(randn_trunc((128,64,4,4)))\n",
        "w5 = GPU(randn_trunc((64,1,4,4)))\n",
        "\n",
        "w = [w0,w1,w2,w3,w4,w5]\n",
        "\n",
        "optimizer = torch.optim.Adam(params=w, lr=learning_rate)\n",
        "\n",
        "for i in range(num_steps):\n",
        "\n",
        "    x_real,y = get_batch('train')\n",
        "\n",
        "    x_fake = Autoencoder(x_real,w)\n",
        "\n",
        "    loss = torch.mean((x_fake - x_real)**2)\n",
        "\n",
        "    optimizer.zero_grad()\n",
        "    loss.backward()\n",
        "    optimizer.step()\n",
        "\n",
        "    if i % 100 == 0: print(loss.item())"
      ],
      "execution_count": null,
      "outputs": []
    },
    {
      "cell_type": "code",
      "source": [
        "image_batch,y = get_batch('test')"
      ],
      "metadata": {
        "id": "9KtDnM_cXeJf"
      },
      "execution_count": null,
      "outputs": []
    },
    {
      "cell_type": "code",
      "source": [
        "image_batch_recon = Autoencoder(image_batch,w)"
      ],
      "metadata": {
        "id": "cUHiRtNJXeMM"
      },
      "execution_count": null,
      "outputs": []
    },
    {
      "cell_type": "code",
      "source": [
        "torch.mean((image_batch_recon - image_batch)**2)"
      ],
      "metadata": {
        "id": "kAvWP-HRXeYy"
      },
      "execution_count": null,
      "outputs": []
    },
    {
      "cell_type": "code",
      "source": [
        "montage_plot(image_batch[0:25,0,:,:].cpu().detach().numpy())"
      ],
      "metadata": {
        "id": "j9GNtjyxTrLg"
      },
      "execution_count": null,
      "outputs": []
    },
    {
      "cell_type": "code",
      "source": [
        "montage_plot(image_batch_recon[0:25,0,:,:].cpu().detach().numpy())"
      ],
      "metadata": {
        "id": "Mc87oPuJYFqx"
      },
      "execution_count": null,
      "outputs": []
    },
    {
      "cell_type": "markdown",
      "source": [
        "\n",
        "### Generator\n",
        "\n"
      ],
      "metadata": {
        "id": "x4_p3zNkNz85"
      }
    },
    {
      "cell_type": "code",
      "source": [],
      "metadata": {
        "id": "OndxZEOPbAv_"
      },
      "execution_count": null,
      "outputs": []
    },
    {
      "cell_type": "code",
      "metadata": {
        "id": "3KqMhS0SbBZW"
      },
      "source": [
        "latent_size = 64\n",
        "hidden_size = 256\n",
        "image_size = 784\n",
        "b = 1024"
      ],
      "execution_count": null,
      "outputs": []
    },
    {
      "cell_type": "code",
      "metadata": {
        "id": "bqUjdQl3bBZX"
      },
      "source": [
        "#MNIST\n",
        "# train_set = MNIST('./data', train=True, download=True)\n",
        "# test_set = MNIST('./data', train=False, download=True)\n",
        "\n",
        "#KMNIST\n",
        "#train_set = KMNIST('./data', train=True, download=True)\n",
        "#test_set = KMNIST('./data', train=False, download=True)\n",
        "\n",
        "#Fashion MNIST\n",
        "train_set = FashionMNIST('./data', train=True, download=True)\n",
        "test_set = FashionMNIST('./data', train=False, download=True)"
      ],
      "execution_count": null,
      "outputs": []
    },
    {
      "cell_type": "code",
      "metadata": {
        "id": "zAjtvOD9bBZX"
      },
      "source": [
        "X = train_set.data.numpy()\n",
        "X_test = test_set.data.numpy()\n",
        "Y = train_set.targets.numpy()\n",
        "Y_test = test_set.targets.numpy()\n",
        "X = X[:,None,:,:]/255\n",
        "X_test = X_test[:,None,:,:]/255\n",
        "X = (X - 0.5)/0.5\n",
        "X_test = (X_test - 0.5)/0.5"
      ],
      "execution_count": null,
      "outputs": []
    },
    {
      "cell_type": "code",
      "metadata": {
        "id": "MFT0i09GbBZX"
      },
      "source": [
        "n = 7\n",
        "\n",
        "index = np.where(Y == n)\n",
        "X = X[index]\n",
        "index = np.where(Y_test == n)\n",
        "X_test = X_test[index]"
      ],
      "execution_count": null,
      "outputs": []
    },
    {
      "cell_type": "code",
      "metadata": {
        "id": "86_6wZZTbBZX"
      },
      "source": [
        "X.shape,Y.shape,X_test.shape,Y_test.shape"
      ],
      "execution_count": null,
      "outputs": []
    },
    {
      "cell_type": "code",
      "metadata": {
        "id": "neg7qmgcbBZX"
      },
      "source": [
        "###################################################"
      ],
      "execution_count": null,
      "outputs": []
    },
    {
      "cell_type": "code",
      "metadata": {
        "id": "WfVSOFbebBZX"
      },
      "source": [
        "X = GPU_data(X)\n",
        "X_test = GPU_data(X_test)\n",
        "Y = GPU_data(Y)\n",
        "Y_test = GPU_data(Y_test)"
      ],
      "execution_count": null,
      "outputs": []
    },
    {
      "cell_type": "code",
      "metadata": {
        "id": "dJfJfXm-bBZX"
      },
      "source": [
        "x,y = get_batch('train')"
      ],
      "execution_count": null,
      "outputs": []
    },
    {
      "cell_type": "code",
      "source": [],
      "metadata": {
        "id": "XTKyOsnC_GYN"
      },
      "execution_count": null,
      "outputs": []
    },
    {
      "cell_type": "code",
      "source": [
        "x.shape"
      ],
      "metadata": {
        "id": "Q197FoFQ-yM9"
      },
      "execution_count": null,
      "outputs": []
    },
    {
      "cell_type": "code",
      "metadata": {
        "id": "V51COsfUbBZX"
      },
      "source": [
        "montage_plot(x[0:25,0,:,:].detach().cpu().numpy())"
      ],
      "execution_count": null,
      "outputs": []
    },
    {
      "cell_type": "code",
      "metadata": {
        "id": "z7LYsL5_bBZX"
      },
      "source": [
        "#D\n",
        "w0 = GPU(randn_trunc((64,1,4,4)))\n",
        "w1 = GPU(randn_trunc((128,64,4,4)))\n",
        "w2 = GPU(randn_trunc((1,6272)))\n",
        "#G\n",
        "w3 = GPU(randn_trunc((6272,64)))\n",
        "w4 = GPU(randn_trunc((128,64,4,4)))\n",
        "w5 = GPU(randn_trunc((64,1,4,4)))\n",
        "\n",
        "w = [w0,w1,w2,w3,w4,w5]"
      ],
      "execution_count": null,
      "outputs": []
    },
    {
      "cell_type": "code",
      "metadata": {
        "id": "UbDVggMGbBZX"
      },
      "source": [
        "def D(x,w):\n",
        "    x = relu(conv2d(x,w[0], stride=(2, 2), padding=(1, 1)))\n",
        "    x = relu(conv2d(x,w[1], stride=(2, 2), padding=(1, 1)))\n",
        "    x = x.view(x.size(0), 6272)\n",
        "    x = linear(x,w[2])\n",
        "    x = torch.sigmoid(x)\n",
        "    return x"
      ],
      "execution_count": null,
      "outputs": []
    },
    {
      "cell_type": "code",
      "metadata": {
        "id": "kcOOwwfqbBZX"
      },
      "source": [
        "def G(x,w):\n",
        "    x = linear(x,w[3])\n",
        "    x = x.view(x.size(0), 128, 7, 7)\n",
        "    x = relu(conv_transpose2d(x,w[4], stride=(2, 2), padding=(1, 1)))\n",
        "    x = torch.tanh(conv_transpose2d(x,w[5], stride=(2, 2), padding=(1, 1)))\n",
        "    return x"
      ],
      "execution_count": null,
      "outputs": []
    },
    {
      "cell_type": "code",
      "source": [
        "b = 1024"
      ],
      "metadata": {
        "id": "nLHWIGrF-75j"
      },
      "execution_count": null,
      "outputs": []
    },
    {
      "cell_type": "code",
      "source": [
        "batch_size = b"
      ],
      "metadata": {
        "id": "351S9-Hi-3dd"
      },
      "execution_count": null,
      "outputs": []
    },
    {
      "cell_type": "code",
      "source": [
        "batch_size"
      ],
      "metadata": {
        "id": "iJoxfGJG-5CN"
      },
      "execution_count": null,
      "outputs": []
    },
    {
      "cell_type": "code",
      "metadata": {
        "id": "Md0XK_V0bBZX"
      },
      "source": [
        "d_optimizer = torch.optim.Adam(w[0:3], lr=0.0002)\n",
        "g_optimizer = torch.optim.Adam(w[3:], lr=0.0002)\n",
        "\n",
        "real_labels = (torch.ones(batch_size, 1).cuda())\n",
        "fake_labels = (torch.zeros(batch_size, 1).cuda())"
      ],
      "execution_count": null,
      "outputs": []
    },
    {
      "cell_type": "code",
      "metadata": {
        "id": "1qIZIv7-bBZX"
      },
      "source": [
        "num_epochs = 500\n",
        "batches = X.shape[0]//batch_size\n",
        "steps = num_epochs*batches"
      ],
      "execution_count": null,
      "outputs": []
    },
    {
      "cell_type": "code",
      "metadata": {
        "id": "x1da20dlbBZX"
      },
      "source": [
        "z1 = (torch.randn(steps,batch_size,latent_size).cuda())\n",
        "z2 = (torch.randn(steps,batch_size,latent_size).cuda())"
      ],
      "execution_count": null,
      "outputs": []
    },
    {
      "cell_type": "code",
      "metadata": {
        "id": "Xfr-JmZqbBZX"
      },
      "source": [
        "for i in range(steps):\n",
        "\n",
        "    images,y = get_batch('train')\n",
        "\n",
        "    d_loss = binary_cross_entropy(D(images,w), real_labels) + binary_cross_entropy(D(G(z1[i],w),w), fake_labels)\n",
        "    d_optimizer.zero_grad()\n",
        "    d_loss.backward()\n",
        "    d_optimizer.step()\n",
        "\n",
        "\n",
        "    g_loss = binary_cross_entropy(D(G(z2[i],w),w), real_labels)\n",
        "    g_optimizer.zero_grad()\n",
        "    g_loss.backward()\n",
        "    g_optimizer.step()\n",
        "\n",
        "\n",
        "    if i % 200 == 0:\n",
        "        out = G(z1[np.random.randint(steps)],w)\n",
        "        montage_plot(out.view(batch_size,1,28,28).detach().cpu().numpy()[0:25,0,:,:])"
      ],
      "execution_count": null,
      "outputs": []
    },
    {
      "cell_type": "code",
      "source": [],
      "metadata": {
        "id": "Vws7NBXkPm8E"
      },
      "execution_count": null,
      "outputs": []
    },
    {
      "cell_type": "code",
      "source": [],
      "metadata": {
        "id": "bJY1hGOIba67"
      },
      "execution_count": null,
      "outputs": []
    },
    {
      "cell_type": "code",
      "source": [
        "z1[np.random.randint(steps)].shape"
      ],
      "metadata": {
        "id": "A_pN8FvYATEy"
      },
      "execution_count": null,
      "outputs": []
    },
    {
      "cell_type": "code",
      "source": [
        "noise = GPU_data(torch.randn(1,64))"
      ],
      "metadata": {
        "id": "tQAacm6dAVFU"
      },
      "execution_count": null,
      "outputs": []
    },
    {
      "cell_type": "code",
      "metadata": {
        "id": "NBPhGo-mbBZY"
      },
      "source": [
        "output = G(noise,w)"
      ],
      "execution_count": null,
      "outputs": []
    },
    {
      "cell_type": "code",
      "source": [
        "output.shape"
      ],
      "metadata": {
        "id": "J-Ci-ogDAcn0"
      },
      "execution_count": null,
      "outputs": []
    },
    {
      "cell_type": "code",
      "source": [
        "plot(output[0,0])"
      ],
      "metadata": {
        "id": "XekLNuxzAieQ"
      },
      "execution_count": null,
      "outputs": []
    },
    {
      "cell_type": "code",
      "source": [],
      "metadata": {
        "id": "l9Km8G5vAlhF"
      },
      "execution_count": null,
      "outputs": []
    },
    {
      "cell_type": "code",
      "source": [],
      "metadata": {
        "id": "CXzsqpaLbAx_"
      },
      "execution_count": null,
      "outputs": []
    },
    {
      "cell_type": "code",
      "source": [],
      "metadata": {
        "id": "WDzaYAHGbAz_"
      },
      "execution_count": null,
      "outputs": []
    },
    {
      "cell_type": "code",
      "source": [],
      "metadata": {
        "id": "0oenv0v7bA2H"
      },
      "execution_count": null,
      "outputs": []
    },
    {
      "cell_type": "code",
      "source": [],
      "metadata": {
        "id": "jXwRPV4ubA3_"
      },
      "execution_count": null,
      "outputs": []
    },
    {
      "cell_type": "code",
      "source": [],
      "metadata": {
        "id": "7fsqbWSobA6H"
      },
      "execution_count": null,
      "outputs": []
    },
    {
      "cell_type": "code",
      "source": [],
      "metadata": {
        "id": "PBBqbgVzbA8I"
      },
      "execution_count": null,
      "outputs": []
    },
    {
      "cell_type": "code",
      "source": [],
      "metadata": {
        "id": "5Qs0nobTbA9_"
      },
      "execution_count": null,
      "outputs": []
    },
    {
      "cell_type": "code",
      "source": [],
      "metadata": {
        "id": "Wy7yh74abBAH"
      },
      "execution_count": null,
      "outputs": []
    },
    {
      "cell_type": "code",
      "source": [],
      "metadata": {
        "id": "N_0b021obBB_"
      },
      "execution_count": null,
      "outputs": []
    }
  ]
}